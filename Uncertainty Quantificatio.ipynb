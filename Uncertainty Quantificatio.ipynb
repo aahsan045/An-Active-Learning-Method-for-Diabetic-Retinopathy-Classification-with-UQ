{
  "nbformat": 4,
  "nbformat_minor": 0,
  "metadata": {
    "colab": {
      "name": "UQ Quantification MultiClass-MCDP .ipynb",
      "provenance": [],
      "collapsed_sections": []
    },
    "kernelspec": {
      "name": "python3",
      "display_name": "Python 3"
    },
    "accelerator": "GPU"
  },
  "cells": [
    {
      "cell_type": "code",
      "metadata": {
        "id": "dwAdF4MTUGNE"
      },
      "source": [
        "import tensorflow.keras as tfk\n",
        "tfkl=tfk.layers\n",
        "from tensorflow.keras.models import Model\n",
        "import numpy as np\n",
        "import matplotlib as plt\n",
        "%matplotlib inline"
      ],
      "execution_count": null,
      "outputs": []
    },
    {
      "cell_type": "code",
      "metadata": {
        "id": "ghwdEkIpUQ1K"
      },
      "source": [
        "num_base_filters=32\n",
        "l2_reg=1e-4  #1e-4\n",
        "dropout_rate=0.20  #0.15 for case3  ## for MC-Dropout\n",
        "learning_rate=1e-4\n",
        "bs=64"
      ],
      "execution_count": null,
      "outputs": []
    },
    {
      "cell_type": "code",
      "metadata": {
        "id": "gSm8zjBUURTL",
        "colab": {
          "base_uri": "https://localhost:8080/"
        },
        "outputId": "5db0fed4-d2c7-49cc-ac90-7448a2a6f194"
      },
      "source": [
        "from google.colab import drive\n",
        "drive.mount('/content/drive')"
      ],
      "execution_count": null,
      "outputs": [
        {
          "output_type": "stream",
          "name": "stdout",
          "text": [
            "Mounted at /content/drive\n"
          ]
        }
      ]
    },
    {
      "cell_type": "code",
      "metadata": {
        "id": "Wln4z03uURe_"
      },
      "source": [
        "inputs=tfkl.Input((224,224,3))\n",
        "#Block1\n",
        "x=tfkl.Conv2D(filters=num_base_filters,kernel_size=3,strides=(1, 1),padding=\"same\",kernel_regularizer=tfk.regularizers.l2(l2_reg))(inputs)\n",
        "x=tfkl.LeakyReLU()(x)\n",
        "x=tfkl.Dropout(dropout_rate)(x,training=True)\n",
        "x=tfkl.BatchNormalization()(x)\n",
        "x=tfkl.Conv2D(filters=num_base_filters,kernel_size=3,strides=(1, 1),padding=\"same\",kernel_regularizer=tfk.regularizers.l2(l2_reg))(x)\n",
        "x=tfkl.LeakyReLU()(x)\n",
        "x=tfkl.Dropout(dropout_rate)(x,training=True)\n",
        "x=tfkl.BatchNormalization()(x)\n",
        "x=tfkl.MaxPooling2D(pool_size=3, strides=(2, 2), padding=\"same\")(x)\n",
        "#Block2\n",
        "x=tfkl.Conv2D(filters=num_base_filters*2,kernel_size=3,strides=(1, 1),padding=\"same\",kernel_regularizer=tfk.regularizers.l2(l2_reg))(x)\n",
        "x=tfkl.LeakyReLU()(x)\n",
        "x=tfkl.Dropout(dropout_rate)(x,training=True)\n",
        "x=tfkl.BatchNormalization()(x)\n",
        "x=tfkl.Conv2D(filters=num_base_filters*2,kernel_size=3,strides=(1, 1),padding=\"same\",kernel_regularizer=tfk.regularizers.l2(l2_reg))(x)\n",
        "x=tfkl.LeakyReLU()(x)\n",
        "x=tfkl.Dropout(dropout_rate)(x,training=True)\n",
        "x=tfkl.BatchNormalization()(x)\n",
        "x=tfkl.MaxPooling2D(pool_size=3, strides=(2, 2), padding=\"same\")(x)\n",
        "#Block3\n",
        "x=tfkl.Conv2D(filters=num_base_filters*4,kernel_size=3,strides=(1, 1),padding=\"same\",kernel_regularizer=tfk.regularizers.l2(l2_reg))(x)\n",
        "x=tfkl.LeakyReLU()(x)\n",
        "x=tfkl.Dropout(dropout_rate)(x,training=True)\n",
        "x=tfkl.BatchNormalization()(x)\n",
        "x=tfkl.Conv2D(filters=num_base_filters*4,kernel_size=3,strides=(1, 1),padding=\"same\",kernel_regularizer=tfk.regularizers.l2(l2_reg))(x)\n",
        "x=tfkl.LeakyReLU()(x)\n",
        "x=tfkl.Dropout(dropout_rate)(x,training=True)\n",
        "x=tfkl.BatchNormalization()(x)\n",
        "x=tfkl.MaxPooling2D(pool_size=3, strides=(2, 2), padding=\"same\")(x)\n",
        "# Block 4\n",
        "x=tfkl.Conv2D(filters=num_base_filters*8,kernel_size=3,strides=(1, 1),padding=\"same\",kernel_regularizer=tfk.regularizers.l2(l2_reg))(x)\n",
        "x=tfkl.LeakyReLU()(x)\n",
        "x=tfkl.Dropout(dropout_rate)(x,training=True)\n",
        "x=tfkl.BatchNormalization()(x)\n",
        "x=tfkl.Conv2D(filters=num_base_filters*8,kernel_size=3,strides=(1, 1),padding=\"same\",kernel_regularizer=tfk.regularizers.l2(l2_reg))(x)\n",
        "x=tfkl.LeakyReLU()(x)\n",
        "x=tfkl.Dropout(dropout_rate)(x,training=True)\n",
        "x=tfkl.BatchNormalization()(x)\n",
        "x=tfkl.Conv2D(filters=num_base_filters*8,kernel_size=3,strides=(1, 1),padding=\"same\",kernel_regularizer=tfk.regularizers.l2(l2_reg))(x)\n",
        "x=tfkl.LeakyReLU()(x)\n",
        "x=tfkl.Dropout(dropout_rate)(x,training=True)\n",
        "x=tfkl.BatchNormalization()(x)\n",
        "x=tfkl.MaxPooling2D(pool_size=5, strides=(3, 3), padding=\"same\")(x)\n",
        "# Block 5\n",
        "x=tfkl.Conv2D(filters=num_base_filters*8,kernel_size=3,strides=(1, 1),padding=\"same\",kernel_regularizer=tfk.regularizers.l2(l2_reg))(x)\n",
        "x=tfkl.LeakyReLU()(x)\n",
        "x=tfkl.Dropout(dropout_rate)(x,training=True)\n",
        "x=tfkl.BatchNormalization()(x)\n",
        "x=tfkl.Conv2D(filters=num_base_filters*8,kernel_size=3,strides=(1, 1),padding=\"same\",kernel_regularizer=tfk.regularizers.l2(l2_reg))(x)\n",
        "x=tfkl.LeakyReLU()(x)\n",
        "x=tfkl.Dropout(dropout_rate)(x,training=True)\n",
        "x=tfkl.BatchNormalization()(x)\n",
        "x=tfkl.Conv2D(filters=num_base_filters*8,kernel_size=3,strides=(1, 1),padding=\"same\",kernel_regularizer=tfk.regularizers.l2(l2_reg))(x)\n",
        "x=tfkl.LeakyReLU()(x)\n",
        "x=tfkl.Dropout(dropout_rate)(x,training=True)\n",
        "x=tfkl.BatchNormalization()(x)\n",
        "x=tfkl.MaxPooling2D(pool_size=5, strides=(3, 3), padding=\"same\")(x)\n",
        "#x=tfkl.Lambda(lambda y: tfk.backend.concatenate([tfkl.GlobalAvgPool2D()(y),tfkl.GlobalMaxPool2D()(y)], axis=1))(x)\n",
        "x=tfkl.Flatten()(x)\n",
        "# Fully-connected\n",
        "x=tfkl.Dense(2048)(x)\n",
        "x=tfkl.LeakyReLU()(x)\n",
        "x=tfkl.Dropout(0.5)(x,training=True)\n",
        "x=tfkl.BatchNormalization()(x)\n",
        "x=tfkl.Dense(512)(x)\n",
        "x=tfkl.LeakyReLU()(x)\n",
        "x=tfkl.Dropout(0.5)(x,training=True)\n",
        "x=tfkl.BatchNormalization()(x)\n",
        "x=tfkl.Dense(128)(x)\n",
        "x=tfkl.LeakyReLU()(x)\n",
        "x=tfkl.Dropout(0.2)(x,training=True)\n",
        "x=tfkl.BatchNormalization()(x)\n",
        "outputs=tfkl.Dense(5,activation='softmax')(x)\n",
        "model=Model(inputs, outputs)"
      ],
      "execution_count": null,
      "outputs": []
    },
    {
      "cell_type": "code",
      "metadata": {
        "id": "iheHGBpQURmN"
      },
      "source": [
        "model.load_weights('/content/drive/My Drive/best_model_multi_class_ce.h5')"
      ],
      "execution_count": null,
      "outputs": []
    },
    {
      "cell_type": "code",
      "metadata": {
        "id": "j3ryDA7cZYa_"
      },
      "source": [
        "for layer in model.layers:\n",
        "  if \"dropout\" in layer.name:\n",
        "    layer.trainable=True\n",
        "  else:\n",
        "    layer.trainable=False"
      ],
      "execution_count": null,
      "outputs": []
    },
    {
      "cell_type": "code",
      "metadata": {
        "colab": {
          "base_uri": "https://localhost:8080/"
        },
        "id": "QDCPkn2k1t2Y",
        "outputId": "a82e1636-4937-4092-88e6-96d903eb0053"
      },
      "source": [
        "for layer in model.layers:\n",
        "  print(layer.name, layer.trainable)"
      ],
      "execution_count": null,
      "outputs": [
        {
          "output_type": "stream",
          "name": "stdout",
          "text": [
            "input_1 False\n",
            "conv2d False\n",
            "leaky_re_lu False\n",
            "dropout True\n",
            "batch_normalization False\n",
            "conv2d_1 False\n",
            "leaky_re_lu_1 False\n",
            "dropout_1 True\n",
            "batch_normalization_1 False\n",
            "max_pooling2d False\n",
            "conv2d_2 False\n",
            "leaky_re_lu_2 False\n",
            "dropout_2 True\n",
            "batch_normalization_2 False\n",
            "conv2d_3 False\n",
            "leaky_re_lu_3 False\n",
            "dropout_3 True\n",
            "batch_normalization_3 False\n",
            "max_pooling2d_1 False\n",
            "conv2d_4 False\n",
            "leaky_re_lu_4 False\n",
            "dropout_4 True\n",
            "batch_normalization_4 False\n",
            "conv2d_5 False\n",
            "leaky_re_lu_5 False\n",
            "dropout_5 True\n",
            "batch_normalization_5 False\n",
            "max_pooling2d_2 False\n",
            "conv2d_6 False\n",
            "leaky_re_lu_6 False\n",
            "dropout_6 True\n",
            "batch_normalization_6 False\n",
            "conv2d_7 False\n",
            "leaky_re_lu_7 False\n",
            "dropout_7 True\n",
            "batch_normalization_7 False\n",
            "conv2d_8 False\n",
            "leaky_re_lu_8 False\n",
            "dropout_8 True\n",
            "batch_normalization_8 False\n",
            "max_pooling2d_3 False\n",
            "conv2d_9 False\n",
            "leaky_re_lu_9 False\n",
            "dropout_9 True\n",
            "batch_normalization_9 False\n",
            "conv2d_10 False\n",
            "leaky_re_lu_10 False\n",
            "dropout_10 True\n",
            "batch_normalization_10 False\n",
            "conv2d_11 False\n",
            "leaky_re_lu_11 False\n",
            "dropout_11 True\n",
            "batch_normalization_11 False\n",
            "max_pooling2d_4 False\n",
            "flatten False\n",
            "dense False\n",
            "leaky_re_lu_12 False\n",
            "dropout_12 True\n",
            "batch_normalization_12 False\n",
            "dense_1 False\n",
            "leaky_re_lu_13 False\n",
            "dropout_13 True\n",
            "batch_normalization_13 False\n",
            "dense_2 False\n",
            "leaky_re_lu_14 False\n",
            "dropout_14 True\n",
            "batch_normalization_14 False\n",
            "dense_3 False\n"
          ]
        }
      ]
    },
    {
      "cell_type": "code",
      "metadata": {
        "id": "sU4UMgCvURvK"
      },
      "source": [
        "import glob\n",
        "import cv2\n",
        "import numpy as np\n",
        "Y_prob=[]\n",
        "Y_true=[]\n",
        "filec0=[]\n",
        "filec1=[]\n",
        "filec2=[]\n",
        "filec3=[]\n",
        "def UQ(files,label,model,num_samples,T):\n",
        "  i=0\n",
        "  countp0=countp1=countn0=countn1=0\n",
        "  count=0;\n",
        "  for file in files:\n",
        "    x=cv2.imread(file)\n",
        "    x=cv2.resize(x,(224,224))\n",
        "    x=cv2.cvtColor(x, cv2.COLOR_BGR2RGB)\n",
        "    x= x/255.0\n",
        "    x=np.expand_dims(x,axis=0)\n",
        "    #print(x.shape)\n",
        "    mc_samples=np.array([model(x,training=True) for _ in range(num_samples)])\n",
        "    #print(mc_samples.shape)\n",
        "    mc_samples=np.squeeze(mc_samples,axis=1)\n",
        "    #print(mc_samples.shape)\n",
        "    #print(mc_samples)\n",
        "    mean_mc_samples=np.mean(mc_samples,axis=0)\n",
        "    Y_prob.append(mc_samples)\n",
        "    Y_true.append(label)\n",
        "    #print(mean_mc_samples)\n",
        "    y_pred=np.argmax(mean_mc_samples)\n",
        "    #print(y_pred)\n",
        "    ent=-1*np.sum(np.multiply(mean_mc_samples,np.log2(mean_mc_samples)),axis=0)\n",
        "    count+=1\n",
        "   # print(ent)\n",
        "    if y_pred==label and ent <=T:\n",
        "      #print(\"Correctly Classified with Low Uncertainty\")\n",
        "      countp0+=1\n",
        "      filec0.append(file)\n",
        "    elif y_pred==label and ent>T:\n",
        "      #print(\"Correctly Classified with High Uncertainty\")\n",
        "      countp1+=1\n",
        "      filec1.append(file)\n",
        "    elif y_pred!=label and ent <=T:\n",
        "      #print(\"Wrongly Classified with Low Uncertainty\")\n",
        "      countn0+=1\n",
        "      filec2.append(file)\n",
        "    elif y_pred!=label and ent>T:\n",
        "      #print(\"Wrongly Classified with High Uncertainty\")\n",
        "      countn1+=1\n",
        "      filec3.append(file)\n",
        "    i=i+1\n",
        "  return countp0,countp1,countn0,countn1"
      ],
      "execution_count": null,
      "outputs": []
    },
    {
      "cell_type": "code",
      "source": [
        "temp=np.array([0.2,0.2,0.2,0.2,0.2])\n",
        "ent=-1*np.sum(np.multiply(temp,np.log2(temp)),axis=0)\n",
        "print(ent)"
      ],
      "metadata": {
        "colab": {
          "base_uri": "https://localhost:8080/"
        },
        "id": "vm21RWUwaedr",
        "outputId": "70e5b83d-c529-4320-8795-014648b856a8"
      },
      "execution_count": null,
      "outputs": [
        {
          "output_type": "stream",
          "name": "stdout",
          "text": [
            "2.321928094887362\n"
          ]
        }
      ]
    },
    {
      "cell_type": "code",
      "source": [
        "import glob\n",
        "a=b=c=d=0\n",
        "file0=glob.glob(\"/content/drive/My Drive/Multiclass Dataset New/test/0/*\")\n",
        "countp0,countp1,countn0,countn1=UQ(file0,0,model,10,1.276)\n",
        "print(\"Class 0\")\n",
        "a=a+countp0\n",
        "b=b+countp1\n",
        "c=c+countn0\n",
        "d=d+countn1\n",
        "print(\"Class 0\")\n",
        "print(\"Correctly Classified with Low Uncertainty\",countp0)\n",
        "print(\"Correctly Classified with High Uncertainty\",countp1)\n",
        "print(\"Wrongly Classified with Low Uncertainty\",countn0)\n",
        "print(\"Wrongly Classified with High Uncertainty\",countn1)\n",
        "file1=glob.glob(\"/content/drive/My Drive/Multiclass Dataset New/test/1/*\")\n",
        "countp0,countp1,countn0,countn1=UQ(file1,1,model,10,1.276)\n",
        "# print(\"Done\")\n",
        "a=a+countp0\n",
        "b=b+countp1\n",
        "c=c+countn0\n",
        "d=d+countn1\n",
        "print(\"Class 1\")\n",
        "print(\"Correctly Classified with Low Uncertainty\",countp0)\n",
        "print(\"Correctly Classified with High Uncertainty\",countp1)\n",
        "print(\"Wrongly Classified with Low Uncertainty\",countn0)\n",
        "print(\"Wrongly Classified with High Uncertainty\",countn1)\n",
        "file2=glob.glob(\"/content/drive/My Drive/Multiclass Dataset New/test/2/*\")\n",
        "countp0,countp1,countn0,countn1=UQ(file2,2,model,10,1.276)\n",
        "print(\"Done\")\n",
        "a=a+countp0\n",
        "b=b+countp1\n",
        "c=c+countn0\n",
        "d=d+countn1\n",
        "print(\"Class 2\")\n",
        "print(\"Correctly Classified with Low Uncertainty\",countp0)\n",
        "print(\"Correctly Classified with High Uncertainty\",countp1)\n",
        "print(\"Wrongly Classified with Low Uncertainty\",countn0)\n",
        "print(\"Wrongly Classified with High Uncertainty\",countn1)\n",
        "file3=glob.glob(\"/content/drive/My Drive/Multiclass Dataset New/test/3/*\")\n",
        "countp0,countp1,countn0,countn1=UQ(file3,3,model,10,1.276)\n",
        "#print(\"Done\")\n",
        "print(\"Class 3\")\n",
        "print(\"Correctly Classified with Low Uncertainty\",countp0)\n",
        "print(\"Correctly Classified with High Uncertainty\",countp1)\n",
        "print(\"Wrongly Classified with Low Uncertainty\",countn0)\n",
        "print(\"Wrongly Classified with High Uncertainty\",countn1)\n",
        "a=a+countp0\n",
        "b=b+countp1\n",
        "c=c+countn0\n",
        "d=d+countn1\n",
        "file4=glob.glob(\"/content/drive/My Drive/Multiclass Dataset New/test/4/*\")\n",
        "countp0,countp1,countn0,countn1=UQ(file4,4,model,10,1.276)\n",
        "#print(\"Done\")\n",
        "print(\"Class 4\")\n",
        "print(\"Correctly Classified with Low Uncertainty\",countp0)\n",
        "print(\"Correctly Classified with High Uncertainty\",countp1)\n",
        "print(\"Wrongly Classified with Low Uncertainty\",countn0)\n",
        "print(\"Wrongly Classified with High Uncertainty\",countn1)\n",
        "a=a+countp0\n",
        "b=b+countp1\n",
        "c=c+countn0\n",
        "d=d+countn1\n",
        "\n",
        "print(\"Total\")\n",
        "print(\"Correctly Classified with Low Uncertainty\",a)\n",
        "print(\"Correctly Classified with High Uncertainty\",b)\n",
        "print(\"Wrongly Classified with Low Uncertainty\",c)\n",
        "print(\"Wrongly Classified with High Uncertainty\",d)"
      ],
      "metadata": {
        "id": "FjcYXFCYsKBY",
        "colab": {
          "base_uri": "https://localhost:8080/"
        },
        "outputId": "5e3c31c3-13cc-4471-af41-497df3def00c"
      },
      "execution_count": null,
      "outputs": [
        {
          "output_type": "stream",
          "name": "stdout",
          "text": [
            "Class 0\n",
            "Class 0\n",
            "Correctly Classified with Low Uncertainty 797\n",
            "Correctly Classified with High Uncertainty 3\n",
            "Wrongly Classified with Low Uncertainty 11\n",
            "Wrongly Classified with High Uncertainty 2\n",
            "Class 1\n",
            "Correctly Classified with Low Uncertainty 297\n",
            "Correctly Classified with High Uncertainty 9\n",
            "Wrongly Classified with Low Uncertainty 21\n",
            "Wrongly Classified with High Uncertainty 6\n",
            "Done\n",
            "Class 2\n",
            "Correctly Classified with Low Uncertainty 390\n",
            "Correctly Classified with High Uncertainty 9\n",
            "Wrongly Classified with Low Uncertainty 39\n",
            "Wrongly Classified with High Uncertainty 13\n",
            "Class 3\n",
            "Correctly Classified with Low Uncertainty 131\n",
            "Correctly Classified with High Uncertainty 4\n",
            "Wrongly Classified with Low Uncertainty 11\n",
            "Wrongly Classified with High Uncertainty 0\n",
            "Class 4\n",
            "Correctly Classified with Low Uncertainty 137\n",
            "Correctly Classified with High Uncertainty 4\n",
            "Wrongly Classified with Low Uncertainty 29\n",
            "Wrongly Classified with High Uncertainty 7\n",
            "Total\n",
            "Correctly Classified with Low Uncertainty 1752\n",
            "Correctly Classified with High Uncertainty 29\n",
            "Wrongly Classified with Low Uncertainty 111\n",
            "Wrongly Classified with High Uncertainty 28\n"
          ]
        }
      ]
    },
    {
      "cell_type": "code",
      "source": [
        "import random\n",
        "random.shuffle(filec0)\n",
        "random.shuffle(filec1)\n",
        "random.shuffle(filec2)\n",
        "random.shuffle(filec3)"
      ],
      "metadata": {
        "id": "_TxCWXdTabpY"
      },
      "execution_count": null,
      "outputs": []
    },
    {
      "cell_type": "code",
      "source": [
        "filess=[filec0,filec1,filec2,filec3]\n",
        "to_check='4189d4e631ec.png'\n",
        "for i in range(0,len(filess)):\n",
        "  for j in range(0,len(filess[i])):\n",
        "    temp=filess[i][j].split(\"/\")\n",
        "    temp=temp[len(temp)-1]\n",
        "    if temp==to_check:\n",
        "      print(i)"
      ],
      "metadata": {
        "colab": {
          "base_uri": "https://localhost:8080/"
        },
        "id": "HGSuR9XSHj18",
        "outputId": "f65dea4f-7714-473c-daab-fd7ea1ac255d"
      },
      "execution_count": null,
      "outputs": [
        {
          "output_type": "stream",
          "name": "stdout",
          "text": [
            "2\n"
          ]
        }
      ]
    },
    {
      "cell_type": "code",
      "metadata": {
        "id": "iYTJ55kmrOHd",
        "colab": {
          "base_uri": "https://localhost:8080/",
          "height": 351
        },
        "outputId": "2cb460b2-f507-403e-dca6-4b9b44259c76"
      },
      "source": [
        "import scikitplot as skplt\n",
        "import matplotlib.pyplot as plt\n",
        "fig1=skplt.metrics.plot_roc_curve(Y_true, Y_prob)\n",
        "plt.savefig(\"Roc_MC.png\",dpi=100)\n",
        "plt.show()"
      ],
      "execution_count": null,
      "outputs": [
        {
          "output_type": "stream",
          "text": [
            "/usr/local/lib/python3.6/dist-packages/sklearn/utils/deprecation.py:87: FutureWarning: Function plot_roc_curve is deprecated; This will be removed in v0.5.0. Please use scikitplot.metrics.plot_roc instead.\n",
            "  warnings.warn(msg, category=FutureWarning)\n"
          ],
          "name": "stderr"
        },
        {
          "output_type": "display_data",
          "data": {
            "image/png": "[encoded data removed]",
            "text/plain": [
              "<Figure size 432x288 with 1 Axes>"
            ]
          },
          "metadata": {
            "tags": [],
            "needs_background": "light"
          }
        }
      ]
    },
    {
      "cell_type": "code",
      "metadata": {
        "id": "1VKFYrmcxY1O"
      },
      "source": [
        "from keras.preprocessing.image import ImageDataGenerator\n",
        "path_test='/content/drive/My Drive/Multiclass Dataset New/test'\n",
        "test_datagen = ImageDataGenerator(rescale=1/255.0)\n",
        "test_generator = test_datagen.flow_from_directory(\n",
        "        path_test,\n",
        "        target_size=(224, 224),\n",
        "        batch_size=64,\n",
        "        class_mode='categorical',\n",
        "        shuffle=False)"
      ],
      "execution_count": null,
      "outputs": []
    },
    {
      "cell_type": "code",
      "metadata": {
        "id": "L_JOiaJxSzyF"
      },
      "source": [
        "num_of_test_samples=1920\n",
        "batch_size=1"
      ],
      "execution_count": null,
      "outputs": []
    },
    {
      "cell_type": "code",
      "metadata": {
        "id": "eFKUMMFxS6D9"
      },
      "source": [
        "Y_pred = model.predict(test_generator, num_of_test_samples // batch_size+1)\n",
        "print(Y_pred.shape)\n",
        "y_pred = np.argmax(Y_pred, axis=1)"
      ],
      "execution_count": null,
      "outputs": []
    },
    {
      "cell_type": "code",
      "metadata": {
        "id": "yqfffvAWTLxz"
      },
      "source": [
        "from sklearn.metrics import confusion_matrix\n",
        "print('Confusion Matrix')\n",
        "print(confusion_matrix(test_generator.classes, y_pred))"
      ],
      "execution_count": null,
      "outputs": []
    },
    {
      "cell_type": "code",
      "metadata": {
        "id": "pBosNAIlV2aw"
      },
      "source": [
        "from sklearn.metrics import classification_report\n",
        "print('Classification Report')\n",
        "target_names = ['0', '1','2','3','4']\n",
        "print(classification_report(test_generator.classes, y_pred, target_names=target_names))"
      ],
      "execution_count": null,
      "outputs": []
    },
    {
      "cell_type": "code",
      "metadata": {
        "id": "coKid3oS4ojs"
      },
      "source": [
        "print(countp0)\n",
        "print(countp1)\n",
        "print(countn0)\n",
        "print(countn1)"
      ],
      "execution_count": null,
      "outputs": []
    },
    {
      "cell_type": "code",
      "metadata": {
        "id": "GWcd3nR-UR6V"
      },
      "source": [
        "from sklearn.metrics import confusion_matrix\n",
        "import itertools\n",
        "def plot_confusion_matrix(cm, classes,\n",
        "                          normalize=False,\n",
        "                          title='Confusion matrix',\n",
        "                          cmap=plt.cm.Blues):\n",
        "    \"\"\"\n",
        "    This function prints and plots the confusion matrix.\n",
        "    Normalization can be applied by setting `normalize=True`.\n",
        "    \"\"\"\n",
        "    if normalize:\n",
        "        cm = cm.astype('float') / cm.sum(axis=1)[:, np.newaxis]\n",
        "        print(\"Normalized confusion matrix\")\n",
        "    else:\n",
        "        print('Confusion matrix, without normalization')\n",
        "\n",
        "#     print(cm)\n",
        "\n",
        "    plt.imshow(cm, interpolation='nearest', cmap=cmap)\n",
        "    plt.title(title)\n",
        "    plt.colorbar()\n",
        "    tick_marks = np.arange(len(classes))\n",
        "    plt.xticks(tick_marks, classes, rotation=45)\n",
        "    plt.yticks(tick_marks, classes)\n",
        "\n",
        "    fmt = '.3f' if normalize else 'd'\n",
        "    thresh = cm.max() / 2.\n",
        "    for i, j in itertools.product(range(cm.shape[0]), range(cm.shape[1])):\n",
        "        plt.text(j, i, format(cm[i, j], fmt),\n",
        "                 horizontalalignment=\"center\",\n",
        "                 color=\"white\" if cm[i, j] > thresh else \"black\")\n",
        "\n",
        "    plt.tight_layout()\n",
        "    plt.ylabel('True label')\n",
        "    plt.xlabel('Predicted label')\n",
        "\n",
        "\n",
        "np.set_printoptions(precision=5)\n",
        "\n",
        "plt.figure()\n",
        "classes=[\"No DR\",\"Mild DR\",\"Moderate DR\",\"Severe DR\",\"Proliferative DR\",]\n",
        "plot_confusion_matrix(cnf_matrix, classes=classes, normalize=False,\n",
        "                      title='')\n",
        "plt.tight_layout()\n",
        "plt.savefig('final_conf_mat_mc_mcdp.png',dpi=1000)\n",
        "plt.show()"
      ],
      "execution_count": null,
      "outputs": []
    },
    {
      "cell_type": "code",
      "metadata": {
        "id": "QPdITeA_gFje"
      },
      "source": [
        "cnf_matrix=np.array([[795,9,7,0,2],\n",
        "    [13,298,17,3,2],\n",
        "    [3,16,399,17,16],\n",
        "    [0,0,0,130,7],\n",
        "    [1,2,27,11,136]])"
      ],
      "execution_count": null,
      "outputs": []
    },
    {
      "cell_type": "code",
      "metadata": {
        "id": "rfmYLAf1f8TD"
      },
      "source": [
        ""
      ],
      "execution_count": null,
      "outputs": []
    }
  ]
}