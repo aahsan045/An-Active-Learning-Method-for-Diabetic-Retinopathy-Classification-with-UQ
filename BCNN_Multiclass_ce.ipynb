{
  "nbformat": 4,
  "nbformat_minor": 0,
  "metadata": {
    "accelerator": "GPU",
    "colab": {
      "name": "MCDP_MULTI_CLASS_Latest_WCE.ipynb",
      "provenance": [],
      "collapsed_sections": [],
      "machine_shape": "hm"
    },
    "kernelspec": {
      "display_name": "Python 3",
      "language": "python",
      "name": "python3"
    },
    "language_info": {
      "codemirror_mode": {
        "name": "ipython",
        "version": 3
      },
      "file_extension": ".py",
      "mimetype": "text/x-python",
      "name": "python",
      "nbconvert_exporter": "python",
      "pygments_lexer": "ipython3",
      "version": "3.7.0"
    }
  },
  "cells": [
    {
      "cell_type": "code",
      "metadata": {
        "id": "aA3zxFEbbzV-",
        "outputId": "b82fc3ad-5cb7-46fa-abce-0f7f8fe62227",
        "colab": {
          "base_uri": "https://localhost:8080/",
          "height": 88
        }
      },
      "source": [
        "import tensorflow as tf\n",
        "tf.config.experimental_run_functions_eagerly(True)\n",
        "import tensorflow.keras as tfk\n",
        "tfkl=tfk.layers\n",
        "import tensorflow_probability as tfp\n",
        "tfpl=tfp.layers\n",
        "tfd=tfp.distributions\n",
        "from tensorflow.keras.applications import VGG16\n",
        "from tensorflow.keras.layers import Flatten,MaxPool2D\n",
        "from tensorflow.keras.models import Model\n",
        "import numpy as np\n",
        "import matplotlib as plt\n",
        "%matplotlib inline"
      ],
      "execution_count": null,
      "outputs": [
        {
          "output_type": "stream",
          "text": [
            "WARNING:tensorflow:From <ipython-input-1-b149237c30fd>:2: experimental_run_functions_eagerly (from tensorflow.python.eager.def_function) is deprecated and will be removed in a future version.\n",
            "Instructions for updating:\n",
            "Use `tf.config.run_functions_eagerly` instead of the experimental version.\n"
          ],
          "name": "stdout"
        }
      ]
    },
    {
      "cell_type": "code",
      "metadata": {
        "id": "wDPOEkW-UXcg"
      },
      "source": [
        "num_base_filters=32\n",
        "l2_reg=1e-4  #1e-4\n",
        "dropout_rate=0.20  #0.15 for case3  ## for MC-Dropout\n",
        "learning_rate=1e-4\n",
        "bs=64"
      ],
      "execution_count": null,
      "outputs": []
    },
    {
      "cell_type": "code",
      "metadata": {
        "id": "l0MJ5T9Gjhf-",
        "outputId": "389533d7-d138-4e63-9dec-06530f7f7866",
        "colab": {
          "base_uri": "https://localhost:8080/",
          "height": 54
        }
      },
      "source": [
        "from google.colab import drive\n",
        "drive.mount('/content/drive')"
      ],
      "execution_count": null,
      "outputs": [
        {
          "output_type": "stream",
          "text": [
            "Drive already mounted at /content/drive; to attempt to forcibly remount, call drive.mount(\"/content/drive\", force_remount=True).\n"
          ],
          "name": "stdout"
        }
      ]
    },
    {
      "cell_type": "code",
      "metadata": {
        "id": "dt_kdhMqcg_F"
      },
      "source": [
        "from keras.preprocessing.image import ImageDataGenerator\n",
        "datagen = ImageDataGenerator(vertical_flip=True,\n",
        "                             brightness_range=[1.0,1.25])"
      ],
      "execution_count": null,
      "outputs": []
    },
    {
      "cell_type": "code",
      "metadata": {
        "id": "_9MXmZpDWVqc"
      },
      "source": [
        "def function():\n",
        "  import glob\n",
        "  import os\n",
        "  files=glob.glob(\"/content/drive/My Drive/Cropped/*\")\n",
        "  import pandas as pd\n",
        "  import cv2\n",
        "  import numpy as np\n",
        "  label=pd.read_csv(\"/content/train.csv\")\n",
        "  count=1\n",
        "  for file in files:\n",
        "    print(count)\n",
        "    im=cv2.imread(file)\n",
        "    name=str(file)\n",
        "    name=name.split(\"/\")\n",
        "    name=name[len(name)-1]\n",
        "    name=name.split(\".\")\n",
        "    name=name[0]\n",
        "    dim=(224,224)\n",
        "    resized=cv2.resize(im,dim)\n",
        "    lbl=label.loc[label['id_code'] == name, 'diagnosis']\n",
        "    lbl=str(lbl).split()\n",
        "    lbl=int(lbl[1])\n",
        "    if lbl==0:\n",
        "      count+=1\n",
        "      path=\"/content/drive/My Drive/Multi-Output/0\"\n",
        "      cv2.imwrite(os.path.join(path , name+'.png'), resized)\n",
        "      x=cv2.cvtColor(resized, cv2.COLOR_BGR2RGB)\n",
        "      x=np.expand_dims(x,axis=0)\n",
        "      for y, val in zip(datagen.flow(x,save_to_dir=\"/content/drive/My Drive/Multi-Output/0\",\n",
        "                                     save_prefix=name+'_aug',save_format='png'),range(1)):\n",
        "        pass\n",
        "    elif lbl==1:\n",
        "      count+=1\n",
        "      path=\"/content/drive/My Drive/Multi-Output/1\"\n",
        "      cv2.imwrite(os.path.join(path , name+'.png'), resized)\n",
        "      x=cv2.cvtColor(resized, cv2.COLOR_BGR2RGB)\n",
        "      x=np.expand_dims(x,axis=0)\n",
        "      for y, val in zip(datagen.flow(x,save_to_dir=\"/content/drive/My Drive/Multi-Output/1\",\n",
        "                                     save_prefix=name+'_aug',save_format='png'),range(4)):\n",
        "        pass\n",
        "    elif lbl==2:\n",
        "      count+=1\n",
        "      path=\"/content/drive/My Drive/Multi-Output/2\"\n",
        "      cv2.imwrite(os.path.join(path , name+'.png'), resized)\n",
        "      x=cv2.cvtColor(resized, cv2.COLOR_BGR2RGB)\n",
        "      x=np.expand_dims(x,axis=0)\n",
        "      for y, val in zip(datagen.flow(x,save_to_dir=\"/content/drive/My Drive/Multi-Output/2\",\n",
        "                                     save_prefix=name+'_aug',save_format='png'),range(1)):\n",
        "        pass\n",
        "    elif lbl==3:\n",
        "      count+=1\n",
        "      path=\"/content/drive/My Drive/Multi-Output/3\"\n",
        "      cv2.imwrite(os.path.join(path , name+'.png'), resized)\n",
        "      x=cv2.cvtColor(resized, cv2.COLOR_BGR2RGB)\n",
        "      x=np.expand_dims(x,axis=0)\n",
        "      for y, val in zip(datagen.flow(x,save_to_dir=\"/content/drive/My Drive/Multi-Output/3\",\n",
        "                                     save_prefix=name+'_aug',save_format='png'),range(3)):\n",
        "        pass\n",
        "    elif lbl==4:\n",
        "      count+=1\n",
        "      path=\"/content/drive/My Drive/Multi-Output/4\"\n",
        "      cv2.imwrite(os.path.join(path , name+'.png'), resized)\n",
        "      x=cv2.cvtColor(resized, cv2.COLOR_BGR2RGB)\n",
        "      x=np.expand_dims(x,axis=0)\n",
        "      for y, val in zip(datagen.flow(x,save_to_dir=\"/content/drive/My Drive/Multi-Output/4\",\n",
        "                                     save_prefix=name+'_aug',save_format='png'),range(2)):\n",
        "        pass\n",
        "  return"
      ],
      "execution_count": null,
      "outputs": []
    },
    {
      "cell_type": "code",
      "metadata": {
        "id": "h5-QaaSei7qC"
      },
      "source": [
        "#function()"
      ],
      "execution_count": null,
      "outputs": []
    },
    {
      "cell_type": "code",
      "metadata": {
        "id": "mUwhoqSO6EXO",
        "outputId": "796ed193-231d-44a0-9bab-579a78427d6b",
        "colab": {
          "base_uri": "https://localhost:8080/",
          "height": 102
        }
      },
      "source": [
        "import glob\n",
        "print(len(glob.glob(\"/content/drive/My Drive/Multi-Output/0/*\")))\n",
        "print(len(glob.glob(\"/content/drive/My Drive/Multi-Output/1/*\")))\n",
        "print(len(glob.glob(\"/content/drive/My Drive/Multi-Output/2/*\")))\n",
        "print(len(glob.glob(\"/content/drive/My Drive/Multi-Output/3/*\")))\n",
        "print(len(glob.glob(\"/content/drive/My Drive/Multi-Output/4/*\")))"
      ],
      "execution_count": null,
      "outputs": [
        {
          "output_type": "stream",
          "text": [
            "5414\n",
            "2220\n",
            "2997\n",
            "964\n",
            "1180\n"
          ],
          "name": "stdout"
        }
      ]
    },
    {
      "cell_type": "code",
      "metadata": {
        "id": "jtyrr2SoHlMQ",
        "outputId": "b19e4d87-ef64-43ad-fde7-4bc044b71e16",
        "colab": {
          "base_uri": "https://localhost:8080/",
          "height": 69
        }
      },
      "source": [
        "'''\n",
        "!pip install split-folders tqdm\n",
        "import splitfolders\n",
        "input=\"/content/drive/My Drive/Multi-Output\"\n",
        "op=\"/content/drive/My Drive/Multiclass Dataset New\"\n",
        "splitfolders.ratio(input, output=op, seed=1337, ratio=(.70, .15, .15), group_prefix=None) # default values\n",
        "'''"
      ],
      "execution_count": null,
      "outputs": [
        {
          "output_type": "execute_result",
          "data": {
            "application/vnd.google.colaboratory.intrinsic+json": {
              "type": "string"
            },
            "text/plain": [
              "'\\n!pip install split-folders tqdm\\nimport splitfolders\\ninput=\"/content/drive/My Drive/Multi-Output\"\\nop=\"/content/drive/My Drive/Multiclass Dataset New\"\\nsplitfolders.ratio(input, output=op, seed=1337, ratio=(.70, .15, .15), group_prefix=None) # default values\\n'"
            ]
          },
          "metadata": {
            "tags": []
          },
          "execution_count": 8
        }
      ]
    },
    {
      "cell_type": "code",
      "metadata": {
        "id": "mChpKXxeqdeN"
      },
      "source": [
        "import keras\n",
        "from keras.preprocessing.image import ImageDataGenerator\n",
        "tr_datagen = ImageDataGenerator(rescale=1/255.0)"
      ],
      "execution_count": null,
      "outputs": []
    },
    {
      "cell_type": "code",
      "metadata": {
        "id": "VErX96RdqlOs",
        "outputId": "996817c3-9838-4984-ba61-891063264c1c",
        "colab": {
          "base_uri": "https://localhost:8080/",
          "height": 34
        }
      },
      "source": [
        "path_tr='/content/drive/My Drive/Multiclass Dataset New/train'\n",
        "train_generator = tr_datagen.flow_from_directory(\n",
        "        path_tr,\n",
        "        target_size=(224, 224),\n",
        "        batch_size=bs,\n",
        "        class_mode='categorical')"
      ],
      "execution_count": null,
      "outputs": [
        {
          "output_type": "stream",
          "text": [
            "Found 8940 images belonging to 5 classes.\n"
          ],
          "name": "stdout"
        }
      ]
    },
    {
      "cell_type": "code",
      "metadata": {
        "id": "zRawOWtIMuTl",
        "outputId": "84be23fe-c701-44d6-8337-5b7a01668834",
        "colab": {
          "base_uri": "https://localhost:8080/",
          "height": 102
        }
      },
      "source": [
        "print(len(glob.glob(\"/content/drive/My Drive/Multiclass Dataset New/train/0/*\")))\n",
        "print(len(glob.glob(\"/content/drive/My Drive/Multiclass Dataset New/train/1/*\")))\n",
        "print(len(glob.glob(\"/content/drive/My Drive/Multiclass Dataset New/train/2/*\")))\n",
        "print(len(glob.glob(\"/content/drive/My Drive/Multiclass Dataset New/train/3/*\")))\n",
        "print(len(glob.glob(\"/content/drive/My Drive/Multiclass Dataset New/train/4/*\")))"
      ],
      "execution_count": null,
      "outputs": [
        {
          "output_type": "stream",
          "text": [
            "3789\n",
            "1554\n",
            "2097\n",
            "674\n",
            "826\n"
          ],
          "name": "stdout"
        }
      ]
    },
    {
      "cell_type": "code",
      "metadata": {
        "id": "JzWh6Ch7M-6Z"
      },
      "source": [
        "y_orig=[]\n",
        "for i in range(0,3789):\n",
        "  y_orig.append(0)\n",
        "for i in range(0,1554):\n",
        "  y_orig.append(1)\n",
        "for i in range(0,2097):\n",
        "  y_orig.append(2)\n",
        "for i in range(0,674):\n",
        "  y_orig.append(3)\n",
        "for i in range(0,826):\n",
        "  y_orig.append(4)\n",
        "y_orig=np.array(y_orig)"
      ],
      "execution_count": null,
      "outputs": []
    },
    {
      "cell_type": "code",
      "metadata": {
        "id": "kDiabuOdwsKe"
      },
      "source": [
        "from sklearn.utils import class_weight\n",
        "class_weight = class_weight.compute_class_weight('balanced'\n",
        "                                               ,np.unique(y_orig)\n",
        "                                               ,y_orig)"
      ],
      "execution_count": null,
      "outputs": []
    },
    {
      "cell_type": "code",
      "metadata": {
        "id": "9dPGGaY7NdJy",
        "outputId": "bc7ff63d-55d6-4691-ca93-54123cced6a8",
        "colab": {
          "base_uri": "https://localhost:8080/",
          "height": 34
        }
      },
      "source": [
        "print(class_weight)"
      ],
      "execution_count": null,
      "outputs": [
        {
          "output_type": "stream",
          "text": [
            "[0.47189232 1.15057915 0.85264664 2.65281899 2.16464891]\n"
          ],
          "name": "stdout"
        }
      ]
    },
    {
      "cell_type": "code",
      "metadata": {
        "id": "zzkjLj5Iu47_",
        "outputId": "3d7f49f1-c57e-423c-ca58-b606f2122dc2",
        "colab": {
          "base_uri": "https://localhost:8080/",
          "height": 34
        }
      },
      "source": [
        "path_val='/content/drive/My Drive/Multiclass Dataset New/val'\n",
        "val_datagen = ImageDataGenerator(rescale=1/255.0)\n",
        "val_generator = val_datagen.flow_from_directory(\n",
        "        path_val,\n",
        "        target_size=(224, 224),\n",
        "        batch_size=bs,\n",
        "        class_mode='categorical')"
      ],
      "execution_count": null,
      "outputs": [
        {
          "output_type": "stream",
          "text": [
            "Found 1915 images belonging to 5 classes.\n"
          ],
          "name": "stdout"
        }
      ]
    },
    {
      "cell_type": "code",
      "metadata": {
        "id": "BwCUm-CLirvl"
      },
      "source": [
        "inputs=tfkl.Input((224,224,3))\n",
        "#Block1\n",
        "x=tfkl.Conv2D(filters=num_base_filters,kernel_size=3,strides=(1, 1),padding=\"same\",kernel_regularizer=tfk.regularizers.l2(l2_reg))(inputs)\n",
        "x=tfkl.LeakyReLU()(x)\n",
        "x=tfkl.Dropout(dropout_rate)(x,training=True)\n",
        "x=tfkl.BatchNormalization()(x)\n",
        "x=tfkl.Conv2D(filters=num_base_filters,kernel_size=3,strides=(1, 1),padding=\"same\",kernel_regularizer=tfk.regularizers.l2(l2_reg))(x)\n",
        "x=tfkl.LeakyReLU()(x)\n",
        "x=tfkl.Dropout(dropout_rate)(x,training=True)\n",
        "x=tfkl.BatchNormalization()(x)\n",
        "x=tfkl.MaxPooling2D(pool_size=3, strides=(2, 2), padding=\"same\")(x)\n",
        "#Block2\n",
        "x=tfkl.Conv2D(filters=num_base_filters*2,kernel_size=3,strides=(1, 1),padding=\"same\",kernel_regularizer=tfk.regularizers.l2(l2_reg))(x)\n",
        "x=tfkl.LeakyReLU()(x)\n",
        "x=tfkl.Dropout(dropout_rate)(x,training=True)\n",
        "x=tfkl.BatchNormalization()(x)\n",
        "x=tfkl.Conv2D(filters=num_base_filters*2,kernel_size=3,strides=(1, 1),padding=\"same\",kernel_regularizer=tfk.regularizers.l2(l2_reg))(x)\n",
        "x=tfkl.LeakyReLU()(x)\n",
        "x=tfkl.Dropout(dropout_rate)(x,training=True)\n",
        "x=tfkl.BatchNormalization()(x)\n",
        "x=tfkl.MaxPooling2D(pool_size=3, strides=(2, 2), padding=\"same\")(x)\n",
        "#Block3\n",
        "x=tfkl.Conv2D(filters=num_base_filters*4,kernel_size=3,strides=(1, 1),padding=\"same\",kernel_regularizer=tfk.regularizers.l2(l2_reg))(x)\n",
        "x=tfkl.LeakyReLU()(x)\n",
        "x=tfkl.Dropout(dropout_rate)(x,training=True)\n",
        "x=tfkl.BatchNormalization()(x)\n",
        "x=tfkl.Conv2D(filters=num_base_filters*4,kernel_size=3,strides=(1, 1),padding=\"same\",kernel_regularizer=tfk.regularizers.l2(l2_reg))(x)\n",
        "x=tfkl.LeakyReLU()(x)\n",
        "x=tfkl.Dropout(dropout_rate)(x,training=True)\n",
        "x=tfkl.BatchNormalization()(x)\n",
        "x=tfkl.MaxPooling2D(pool_size=3, strides=(2, 2), padding=\"same\")(x)\n",
        "# Block 4\n",
        "x=tfkl.Conv2D(filters=num_base_filters*8,kernel_size=3,strides=(1, 1),padding=\"same\",kernel_regularizer=tfk.regularizers.l2(l2_reg))(x)\n",
        "x=tfkl.LeakyReLU()(x)\n",
        "x=tfkl.Dropout(dropout_rate)(x,training=True)\n",
        "x=tfkl.BatchNormalization()(x)\n",
        "x=tfkl.Conv2D(filters=num_base_filters*8,kernel_size=3,strides=(1, 1),padding=\"same\",kernel_regularizer=tfk.regularizers.l2(l2_reg))(x)\n",
        "x=tfkl.LeakyReLU()(x)\n",
        "x=tfkl.Dropout(dropout_rate)(x,training=True)\n",
        "x=tfkl.BatchNormalization()(x)\n",
        "x=tfkl.Conv2D(filters=num_base_filters*8,kernel_size=3,strides=(1, 1),padding=\"same\",kernel_regularizer=tfk.regularizers.l2(l2_reg))(x)\n",
        "x=tfkl.LeakyReLU()(x)\n",
        "x=tfkl.Dropout(dropout_rate)(x,training=True)\n",
        "x=tfkl.BatchNormalization()(x)\n",
        "x=tfkl.MaxPooling2D(pool_size=5, strides=(3, 3), padding=\"same\")(x)\n",
        "# Block 5\n",
        "x=tfkl.Conv2D(filters=num_base_filters*8,kernel_size=3,strides=(1, 1),padding=\"same\",kernel_regularizer=tfk.regularizers.l2(l2_reg))(x)\n",
        "x=tfkl.LeakyReLU()(x)\n",
        "x=tfkl.Dropout(dropout_rate)(x,training=True)\n",
        "x=tfkl.BatchNormalization()(x)\n",
        "x=tfkl.Conv2D(filters=num_base_filters*8,kernel_size=3,strides=(1, 1),padding=\"same\",kernel_regularizer=tfk.regularizers.l2(l2_reg))(x)\n",
        "x=tfkl.LeakyReLU()(x)\n",
        "x=tfkl.Dropout(dropout_rate)(x,training=True)\n",
        "x=tfkl.BatchNormalization()(x)\n",
        "x=tfkl.Conv2D(filters=num_base_filters*8,kernel_size=3,strides=(1, 1),padding=\"same\",kernel_regularizer=tfk.regularizers.l2(l2_reg))(x)\n",
        "x=tfkl.LeakyReLU()(x)\n",
        "x=tfkl.Dropout(dropout_rate)(x,training=True)\n",
        "x=tfkl.BatchNormalization()(x)\n",
        "x=tfkl.MaxPooling2D(pool_size=5, strides=(3, 3), padding=\"same\")(x)\n",
        "#x=tfkl.Lambda(lambda y: tfk.backend.concatenate([tfkl.GlobalAvgPool2D()(y),tfkl.GlobalMaxPool2D()(y)], axis=1))(x)\n",
        "x=tfkl.Flatten()(x)\n",
        "# Fully-connected\n",
        "x=tfkl.Dense(2048)(x)\n",
        "x=tfkl.LeakyReLU()(x)\n",
        "x=tfkl.Dropout(0.5)(x,training=True)\n",
        "x=tfkl.BatchNormalization()(x)\n",
        "x=tfkl.Dense(512)(x)\n",
        "x=tfkl.LeakyReLU()(x)\n",
        "x=tfkl.Dropout(0.5)(x,training=True)\n",
        "x=tfkl.BatchNormalization()(x)\n",
        "x=tfkl.Dense(128)(x)\n",
        "x=tfkl.LeakyReLU()(x)\n",
        "x=tfkl.Dropout(0.2)(x,training=True)\n",
        "x=tfkl.BatchNormalization()(x)\n",
        "outputs=tfkl.Dense(5,activation='softmax')(x)\n",
        "model=Model(inputs, outputs)"
      ],
      "execution_count": null,
      "outputs": []
    },
    {
      "cell_type": "code",
      "metadata": {
        "id": "hE6osGyI_UYC",
        "outputId": "1d2e27dc-93f4-4815-bf08-fa02fdbfbe56",
        "colab": {
          "base_uri": "https://localhost:8080/",
          "height": 1000
        }
      },
      "source": [
        "model.summary()"
      ],
      "execution_count": null,
      "outputs": [
        {
          "output_type": "stream",
          "text": [
            "Model: \"functional_1\"\n",
            "_________________________________________________________________\n",
            "Layer (type)                 Output Shape              Param #   \n",
            "=================================================================\n",
            "input_1 (InputLayer)         [(None, 224, 224, 3)]     0         \n",
            "_________________________________________________________________\n",
            "conv2d (Conv2D)              (None, 224, 224, 32)      896       \n",
            "_________________________________________________________________\n",
            "leaky_re_lu (LeakyReLU)      (None, 224, 224, 32)      0         \n",
            "_________________________________________________________________\n",
            "dropout (Dropout)            (None, 224, 224, 32)      0         \n",
            "_________________________________________________________________\n",
            "batch_normalization (BatchNo (None, 224, 224, 32)      128       \n",
            "_________________________________________________________________\n",
            "conv2d_1 (Conv2D)            (None, 224, 224, 32)      9248      \n",
            "_________________________________________________________________\n",
            "leaky_re_lu_1 (LeakyReLU)    (None, 224, 224, 32)      0         \n",
            "_________________________________________________________________\n",
            "dropout_1 (Dropout)          (None, 224, 224, 32)      0         \n",
            "_________________________________________________________________\n",
            "batch_normalization_1 (Batch (None, 224, 224, 32)      128       \n",
            "_________________________________________________________________\n",
            "max_pooling2d (MaxPooling2D) (None, 112, 112, 32)      0         \n",
            "_________________________________________________________________\n",
            "conv2d_2 (Conv2D)            (None, 112, 112, 64)      18496     \n",
            "_________________________________________________________________\n",
            "leaky_re_lu_2 (LeakyReLU)    (None, 112, 112, 64)      0         \n",
            "_________________________________________________________________\n",
            "dropout_2 (Dropout)          (None, 112, 112, 64)      0         \n",
            "_________________________________________________________________\n",
            "batch_normalization_2 (Batch (None, 112, 112, 64)      256       \n",
            "_________________________________________________________________\n",
            "conv2d_3 (Conv2D)            (None, 112, 112, 64)      36928     \n",
            "_________________________________________________________________\n",
            "leaky_re_lu_3 (LeakyReLU)    (None, 112, 112, 64)      0         \n",
            "_________________________________________________________________\n",
            "dropout_3 (Dropout)          (None, 112, 112, 64)      0         \n",
            "_________________________________________________________________\n",
            "batch_normalization_3 (Batch (None, 112, 112, 64)      256       \n",
            "_________________________________________________________________\n",
            "max_pooling2d_1 (MaxPooling2 (None, 56, 56, 64)        0         \n",
            "_________________________________________________________________\n",
            "conv2d_4 (Conv2D)            (None, 56, 56, 128)       73856     \n",
            "_________________________________________________________________\n",
            "leaky_re_lu_4 (LeakyReLU)    (None, 56, 56, 128)       0         \n",
            "_________________________________________________________________\n",
            "dropout_4 (Dropout)          (None, 56, 56, 128)       0         \n",
            "_________________________________________________________________\n",
            "batch_normalization_4 (Batch (None, 56, 56, 128)       512       \n",
            "_________________________________________________________________\n",
            "conv2d_5 (Conv2D)            (None, 56, 56, 128)       147584    \n",
            "_________________________________________________________________\n",
            "leaky_re_lu_5 (LeakyReLU)    (None, 56, 56, 128)       0         \n",
            "_________________________________________________________________\n",
            "dropout_5 (Dropout)          (None, 56, 56, 128)       0         \n",
            "_________________________________________________________________\n",
            "batch_normalization_5 (Batch (None, 56, 56, 128)       512       \n",
            "_________________________________________________________________\n",
            "max_pooling2d_2 (MaxPooling2 (None, 28, 28, 128)       0         \n",
            "_________________________________________________________________\n",
            "conv2d_6 (Conv2D)            (None, 28, 28, 256)       295168    \n",
            "_________________________________________________________________\n",
            "leaky_re_lu_6 (LeakyReLU)    (None, 28, 28, 256)       0         \n",
            "_________________________________________________________________\n",
            "dropout_6 (Dropout)          (None, 28, 28, 256)       0         \n",
            "_________________________________________________________________\n",
            "batch_normalization_6 (Batch (None, 28, 28, 256)       1024      \n",
            "_________________________________________________________________\n",
            "conv2d_7 (Conv2D)            (None, 28, 28, 256)       590080    \n",
            "_________________________________________________________________\n",
            "leaky_re_lu_7 (LeakyReLU)    (None, 28, 28, 256)       0         \n",
            "_________________________________________________________________\n",
            "dropout_7 (Dropout)          (None, 28, 28, 256)       0         \n",
            "_________________________________________________________________\n",
            "batch_normalization_7 (Batch (None, 28, 28, 256)       1024      \n",
            "_________________________________________________________________\n",
            "conv2d_8 (Conv2D)            (None, 28, 28, 256)       590080    \n",
            "_________________________________________________________________\n",
            "leaky_re_lu_8 (LeakyReLU)    (None, 28, 28, 256)       0         \n",
            "_________________________________________________________________\n",
            "dropout_8 (Dropout)          (None, 28, 28, 256)       0         \n",
            "_________________________________________________________________\n",
            "batch_normalization_8 (Batch (None, 28, 28, 256)       1024      \n",
            "_________________________________________________________________\n",
            "max_pooling2d_3 (MaxPooling2 (None, 10, 10, 256)       0         \n",
            "_________________________________________________________________\n",
            "conv2d_9 (Conv2D)            (None, 10, 10, 256)       590080    \n",
            "_________________________________________________________________\n",
            "leaky_re_lu_9 (LeakyReLU)    (None, 10, 10, 256)       0         \n",
            "_________________________________________________________________\n",
            "dropout_9 (Dropout)          (None, 10, 10, 256)       0         \n",
            "_________________________________________________________________\n",
            "batch_normalization_9 (Batch (None, 10, 10, 256)       1024      \n",
            "_________________________________________________________________\n",
            "conv2d_10 (Conv2D)           (None, 10, 10, 256)       590080    \n",
            "_________________________________________________________________\n",
            "leaky_re_lu_10 (LeakyReLU)   (None, 10, 10, 256)       0         \n",
            "_________________________________________________________________\n",
            "dropout_10 (Dropout)         (None, 10, 10, 256)       0         \n",
            "_________________________________________________________________\n",
            "batch_normalization_10 (Batc (None, 10, 10, 256)       1024      \n",
            "_________________________________________________________________\n",
            "conv2d_11 (Conv2D)           (None, 10, 10, 256)       590080    \n",
            "_________________________________________________________________\n",
            "leaky_re_lu_11 (LeakyReLU)   (None, 10, 10, 256)       0         \n",
            "_________________________________________________________________\n",
            "dropout_11 (Dropout)         (None, 10, 10, 256)       0         \n",
            "_________________________________________________________________\n",
            "batch_normalization_11 (Batc (None, 10, 10, 256)       1024      \n",
            "_________________________________________________________________\n",
            "max_pooling2d_4 (MaxPooling2 (None, 4, 4, 256)         0         \n",
            "_________________________________________________________________\n",
            "flatten (Flatten)            (None, 4096)              0         \n",
            "_________________________________________________________________\n",
            "dense (Dense)                (None, 2048)              8390656   \n",
            "_________________________________________________________________\n",
            "leaky_re_lu_12 (LeakyReLU)   (None, 2048)              0         \n",
            "_________________________________________________________________\n",
            "dropout_12 (Dropout)         (None, 2048)              0         \n",
            "_________________________________________________________________\n",
            "batch_normalization_12 (Batc (None, 2048)              8192      \n",
            "_________________________________________________________________\n",
            "dense_1 (Dense)              (None, 512)               1049088   \n",
            "_________________________________________________________________\n",
            "leaky_re_lu_13 (LeakyReLU)   (None, 512)               0         \n",
            "_________________________________________________________________\n",
            "dropout_13 (Dropout)         (None, 512)               0         \n",
            "_________________________________________________________________\n",
            "batch_normalization_13 (Batc (None, 512)               2048      \n",
            "_________________________________________________________________\n",
            "dense_2 (Dense)              (None, 128)               65664     \n",
            "_________________________________________________________________\n",
            "leaky_re_lu_14 (LeakyReLU)   (None, 128)               0         \n",
            "_________________________________________________________________\n",
            "dropout_14 (Dropout)         (None, 128)               0         \n",
            "_________________________________________________________________\n",
            "batch_normalization_14 (Batc (None, 128)               512       \n",
            "_________________________________________________________________\n",
            "dense_3 (Dense)              (None, 5)                 645       \n",
            "=================================================================\n",
            "Total params: 13,057,317\n",
            "Trainable params: 13,047,973\n",
            "Non-trainable params: 9,344\n",
            "_________________________________________________________________\n"
          ],
          "name": "stdout"
        }
      ]
    },
    {
      "cell_type": "code",
      "metadata": {
        "id": "S1bjXVcPBKG2"
      },
      "source": [
        "#model.load_weights(\"/content/drive/My Drive/Results_Multi-Class/best_model_multi_class.h5\")"
      ],
      "execution_count": null,
      "outputs": []
    },
    {
      "cell_type": "code",
      "metadata": {
        "id": "J7org4HxTQIg"
      },
      "source": [
        "from tensorflow.keras.optimizers import SGD,Adam,RMSprop,Nadam\n",
        "opt=Adam(learning_rate=learning_rate,beta_1=0.9,beta_2=0.99)\n",
        "model.compile(loss='categorical_crossentropy', optimizer= opt, metrics=['accuracy'])"
      ],
      "execution_count": null,
      "outputs": []
    },
    {
      "cell_type": "code",
      "metadata": {
        "id": "Obz_pKVGmr7a"
      },
      "source": [
        "from tensorflow.keras.callbacks import EarlyStopping\n",
        "from tensorflow.keras.callbacks import ModelCheckpoint\n",
        "#es = EarlyStopping(monitor='val_loss', mode='min', verbose=0,patience=30)\n",
        "#mc = ModelCheckpoint('/content/drive/My Drive/best_model_multi_class_02.h5', monitor='val_accuracy', mode='max', verbose=0, save_best_only=True)"
      ],
      "execution_count": null,
      "outputs": []
    },
    {
      "cell_type": "code",
      "metadata": {
        "id": "k0JhMt7TiqST"
      },
      "source": [
        "class_weight={0: 0.47189232,\n",
        "              1: 1.15057915,\n",
        "              2: 0.85264664,\n",
        "              3: 2.65281899,\n",
        "              4: 2.16464891}"
      ],
      "execution_count": null,
      "outputs": []
    },
    {
      "cell_type": "code",
      "metadata": {
        "id": "pVgdlKCGSS7r"
      },
      "source": [
        "def focal_loss(gamma=2., alpha=4.):\n",
        "    gamma = float(gamma)\n",
        "    alpha = float(alpha)\n",
        "    def focal_loss_fixed(y_true, y_pred):\n",
        "        epsilon = 1.e-9\n",
        "        y_true = tf.convert_to_tensor(y_true, tf.float32)\n",
        "        y_pred = tf.convert_to_tensor(y_pred, tf.float32)\n",
        "        model_out = tf.add(y_pred, epsilon)\n",
        "        ce = tf.multiply(y_true, -tf.log(model_out))\n",
        "        weight = tf.multiply(y_true, tf.pow(tf.subtract(1., model_out), gamma))\n",
        "        fl = tf.multiply(alpha, tf.multiply(weight, ce))\n",
        "        reduced_fl = tf.reduce_max(fl, axis=1)\n",
        "        return tf.reduce_mean(reduced_fl)\n",
        "    return focal_loss_fixed"
      ],
      "execution_count": null,
      "outputs": []
    },
    {
      "cell_type": "code",
      "metadata": {
        "id": "BJrzrx5ZHyGK",
        "outputId": "92449adc-175c-430d-f5fc-ef1494962785",
        "colab": {
          "base_uri": "https://localhost:8080/",
          "height": 1000
        }
      },
      "source": [
        "history= model.fit(train_generator,validation_data=val_generator,validation_steps=1,shuffle=True,epochs=80,verbose=1,class_weight=class_weight)"
      ],
      "execution_count": null,
      "outputs": [
        {
          "output_type": "stream",
          "text": [
            "/usr/local/lib/python3.6/dist-packages/tensorflow/python/data/ops/dataset_ops.py:3350: UserWarning: Even though the tf.config.experimental_run_functions_eagerly option is set, this option does not apply to tf.data functions. tf.data functions are still traced and executed as graphs.\n",
            "  \"Even though the tf.config.experimental_run_functions_eagerly \"\n"
          ],
          "name": "stderr"
        },
        {
          "output_type": "stream",
          "text": [
            "Epoch 1/80\n",
            "140/140 [==============================] - 51s 362ms/step - loss: 2.0689 - accuracy: 0.3167 - val_loss: 3.8683 - val_accuracy: 0.0781\n",
            "Epoch 2/80\n",
            "140/140 [==============================] - 50s 354ms/step - loss: 1.6437 - accuracy: 0.4893 - val_loss: 4.1177 - val_accuracy: 0.1875\n",
            "Epoch 3/80\n",
            "140/140 [==============================] - 50s 354ms/step - loss: 1.5321 - accuracy: 0.5179 - val_loss: 3.3765 - val_accuracy: 0.2031\n",
            "Epoch 4/80\n",
            "140/140 [==============================] - 50s 354ms/step - loss: 1.4714 - accuracy: 0.5364 - val_loss: 3.1862 - val_accuracy: 0.1406\n",
            "Epoch 5/80\n",
            "140/140 [==============================] - 50s 354ms/step - loss: 1.4339 - accuracy: 0.5589 - val_loss: 1.6213 - val_accuracy: 0.4062\n",
            "Epoch 6/80\n",
            "140/140 [==============================] - 50s 354ms/step - loss: 1.3936 - accuracy: 0.5767 - val_loss: 1.5841 - val_accuracy: 0.5781\n",
            "Epoch 7/80\n",
            "140/140 [==============================] - 50s 355ms/step - loss: 1.3805 - accuracy: 0.5784 - val_loss: 1.3205 - val_accuracy: 0.5156\n",
            "Epoch 8/80\n",
            "140/140 [==============================] - 50s 355ms/step - loss: 1.3267 - accuracy: 0.6106 - val_loss: 2.6081 - val_accuracy: 0.3750\n",
            "Epoch 9/80\n",
            "140/140 [==============================] - 50s 354ms/step - loss: 1.2804 - accuracy: 0.6208 - val_loss: 2.3937 - val_accuracy: 0.1406\n",
            "Epoch 10/80\n",
            "140/140 [==============================] - 50s 354ms/step - loss: 1.2397 - accuracy: 0.6356 - val_loss: 1.2898 - val_accuracy: 0.4844\n",
            "Epoch 11/80\n",
            "140/140 [==============================] - 50s 354ms/step - loss: 1.1911 - accuracy: 0.6632 - val_loss: 1.3526 - val_accuracy: 0.5156\n",
            "Epoch 12/80\n",
            "140/140 [==============================] - 49s 353ms/step - loss: 1.1550 - accuracy: 0.6736 - val_loss: 0.9963 - val_accuracy: 0.6406\n",
            "Epoch 13/80\n",
            "140/140 [==============================] - 50s 354ms/step - loss: 1.1057 - accuracy: 0.6906 - val_loss: 0.9220 - val_accuracy: 0.7500\n",
            "Epoch 14/80\n",
            "140/140 [==============================] - 49s 353ms/step - loss: 1.0725 - accuracy: 0.7013 - val_loss: 1.1356 - val_accuracy: 0.5625\n",
            "Epoch 15/80\n",
            "140/140 [==============================] - 50s 354ms/step - loss: 1.0239 - accuracy: 0.7171 - val_loss: 1.0300 - val_accuracy: 0.6406\n",
            "Epoch 16/80\n",
            "140/140 [==============================] - 49s 353ms/step - loss: 0.9850 - accuracy: 0.7286 - val_loss: 1.3400 - val_accuracy: 0.5312\n",
            "Epoch 17/80\n",
            "140/140 [==============================] - 49s 353ms/step - loss: 0.9505 - accuracy: 0.7456 - val_loss: 1.0800 - val_accuracy: 0.6406\n",
            "Epoch 18/80\n",
            "140/140 [==============================] - 50s 354ms/step - loss: 0.9162 - accuracy: 0.7484 - val_loss: 0.7894 - val_accuracy: 0.7188\n",
            "Epoch 19/80\n",
            "140/140 [==============================] - 50s 355ms/step - loss: 0.8631 - accuracy: 0.7661 - val_loss: 0.7944 - val_accuracy: 0.7500\n",
            "Epoch 20/80\n",
            "140/140 [==============================] - 50s 354ms/step - loss: 0.8476 - accuracy: 0.7652 - val_loss: 0.7309 - val_accuracy: 0.7656\n",
            "Epoch 21/80\n",
            "140/140 [==============================] - 50s 354ms/step - loss: 0.7976 - accuracy: 0.7875 - val_loss: 0.8898 - val_accuracy: 0.7344\n",
            "Epoch 22/80\n",
            "140/140 [==============================] - 50s 354ms/step - loss: 0.7400 - accuracy: 0.8016 - val_loss: 0.8655 - val_accuracy: 0.7344\n",
            "Epoch 23/80\n",
            "140/140 [==============================] - 49s 353ms/step - loss: 0.7477 - accuracy: 0.7990 - val_loss: 1.6612 - val_accuracy: 0.4375\n",
            "Epoch 24/80\n",
            "140/140 [==============================] - 49s 353ms/step - loss: 0.7011 - accuracy: 0.8129 - val_loss: 1.2056 - val_accuracy: 0.6875\n",
            "Epoch 25/80\n",
            "140/140 [==============================] - 49s 353ms/step - loss: 0.6612 - accuracy: 0.8257 - val_loss: 0.6844 - val_accuracy: 0.7969\n",
            "Epoch 26/80\n",
            "140/140 [==============================] - 50s 354ms/step - loss: 0.6556 - accuracy: 0.8284 - val_loss: 0.6035 - val_accuracy: 0.8438\n",
            "Epoch 27/80\n",
            "140/140 [==============================] - 49s 353ms/step - loss: 0.6142 - accuracy: 0.8456 - val_loss: 0.9094 - val_accuracy: 0.7812\n",
            "Epoch 28/80\n",
            "140/140 [==============================] - 49s 353ms/step - loss: 0.5938 - accuracy: 0.8506 - val_loss: 0.9502 - val_accuracy: 0.7344\n",
            "Epoch 29/80\n",
            "140/140 [==============================] - 49s 353ms/step - loss: 0.5862 - accuracy: 0.8601 - val_loss: 0.6143 - val_accuracy: 0.8594\n",
            "Epoch 30/80\n",
            "140/140 [==============================] - 49s 353ms/step - loss: 0.5525 - accuracy: 0.8678 - val_loss: 0.9258 - val_accuracy: 0.6875\n",
            "Epoch 31/80\n",
            "140/140 [==============================] - 50s 354ms/step - loss: 0.5273 - accuracy: 0.8743 - val_loss: 0.4879 - val_accuracy: 0.8906\n",
            "Epoch 32/80\n",
            "140/140 [==============================] - 50s 354ms/step - loss: 0.5053 - accuracy: 0.8826 - val_loss: 1.0672 - val_accuracy: 0.7188\n",
            "Epoch 33/80\n",
            "140/140 [==============================] - 49s 353ms/step - loss: 0.4938 - accuracy: 0.8902 - val_loss: 0.7650 - val_accuracy: 0.8125\n",
            "Epoch 34/80\n",
            "140/140 [==============================] - 49s 353ms/step - loss: 0.4823 - accuracy: 0.8957 - val_loss: 0.6362 - val_accuracy: 0.8281\n",
            "Epoch 35/80\n",
            "140/140 [==============================] - 49s 353ms/step - loss: 0.4705 - accuracy: 0.8947 - val_loss: 0.6279 - val_accuracy: 0.8438\n",
            "Epoch 36/80\n",
            "140/140 [==============================] - 49s 353ms/step - loss: 0.4456 - accuracy: 0.9062 - val_loss: 0.4321 - val_accuracy: 0.9375\n",
            "Epoch 37/80\n",
            "140/140 [==============================] - 49s 353ms/step - loss: 0.4382 - accuracy: 0.9079 - val_loss: 0.5982 - val_accuracy: 0.8906\n",
            "Epoch 38/80\n",
            "140/140 [==============================] - 50s 354ms/step - loss: 0.4305 - accuracy: 0.9141 - val_loss: 0.5635 - val_accuracy: 0.8750\n",
            "Epoch 39/80\n",
            "140/140 [==============================] - 50s 354ms/step - loss: 0.4202 - accuracy: 0.9190 - val_loss: 0.5308 - val_accuracy: 0.8281\n",
            "Epoch 40/80\n",
            "140/140 [==============================] - 50s 354ms/step - loss: 0.4083 - accuracy: 0.9215 - val_loss: 0.3961 - val_accuracy: 0.8906\n",
            "Epoch 41/80\n",
            "140/140 [==============================] - 49s 353ms/step - loss: 0.4018 - accuracy: 0.9207 - val_loss: 0.5585 - val_accuracy: 0.8594\n",
            "Epoch 42/80\n",
            "140/140 [==============================] - 50s 354ms/step - loss: 0.3787 - accuracy: 0.9332 - val_loss: 0.7473 - val_accuracy: 0.7656\n",
            "Epoch 43/80\n",
            "140/140 [==============================] - 50s 354ms/step - loss: 0.3809 - accuracy: 0.9331 - val_loss: 0.9122 - val_accuracy: 0.8281\n",
            "Epoch 44/80\n",
            "140/140 [==============================] - 50s 354ms/step - loss: 0.3720 - accuracy: 0.9304 - val_loss: 0.2647 - val_accuracy: 0.9531\n",
            "Epoch 45/80\n",
            "140/140 [==============================] - 49s 354ms/step - loss: 0.3664 - accuracy: 0.9403 - val_loss: 0.7553 - val_accuracy: 0.8438\n",
            "Epoch 46/80\n",
            "140/140 [==============================] - 49s 353ms/step - loss: 0.3422 - accuracy: 0.9463 - val_loss: 0.5774 - val_accuracy: 0.8594\n",
            "Epoch 47/80\n",
            "140/140 [==============================] - 49s 353ms/step - loss: 0.3465 - accuracy: 0.9419 - val_loss: 0.4896 - val_accuracy: 0.9375\n",
            "Epoch 48/80\n",
            "140/140 [==============================] - 50s 354ms/step - loss: 0.3542 - accuracy: 0.9413 - val_loss: 0.6169 - val_accuracy: 0.8750\n",
            "Epoch 49/80\n",
            "140/140 [==============================] - 50s 354ms/step - loss: 0.3399 - accuracy: 0.9443 - val_loss: 0.7322 - val_accuracy: 0.8438\n",
            "Epoch 50/80\n",
            "140/140 [==============================] - 50s 354ms/step - loss: 0.3374 - accuracy: 0.9445 - val_loss: 0.6221 - val_accuracy: 0.8906\n",
            "Epoch 51/80\n",
            "140/140 [==============================] - 50s 354ms/step - loss: 0.3292 - accuracy: 0.9492 - val_loss: 0.3820 - val_accuracy: 0.9219\n",
            "Epoch 52/80\n",
            "140/140 [==============================] - 49s 353ms/step - loss: 0.3281 - accuracy: 0.9483 - val_loss: 0.8451 - val_accuracy: 0.8594\n",
            "Epoch 53/80\n",
            "140/140 [==============================] - 49s 353ms/step - loss: 0.3161 - accuracy: 0.9504 - val_loss: 0.7549 - val_accuracy: 0.8281\n",
            "Epoch 54/80\n",
            "140/140 [==============================] - 49s 353ms/step - loss: 0.3173 - accuracy: 0.9562 - val_loss: 0.4096 - val_accuracy: 0.9062\n",
            "Epoch 55/80\n",
            "140/140 [==============================] - 49s 354ms/step - loss: 0.2997 - accuracy: 0.9605 - val_loss: 0.6205 - val_accuracy: 0.8906\n",
            "Epoch 56/80\n",
            "140/140 [==============================] - 49s 354ms/step - loss: 0.3040 - accuracy: 0.9579 - val_loss: 0.5209 - val_accuracy: 0.8906\n",
            "Epoch 57/80\n",
            "140/140 [==============================] - 50s 355ms/step - loss: 0.3212 - accuracy: 0.9546 - val_loss: 0.6726 - val_accuracy: 0.7812\n",
            "Epoch 58/80\n",
            "140/140 [==============================] - 49s 353ms/step - loss: 0.3061 - accuracy: 0.9582 - val_loss: 0.5440 - val_accuracy: 0.8750\n",
            "Epoch 59/80\n",
            "140/140 [==============================] - 49s 353ms/step - loss: 0.3015 - accuracy: 0.9613 - val_loss: 1.0640 - val_accuracy: 0.7812\n",
            "Epoch 60/80\n",
            "140/140 [==============================] - 50s 354ms/step - loss: 0.2952 - accuracy: 0.9616 - val_loss: 0.5023 - val_accuracy: 0.8906\n",
            "Epoch 61/80\n",
            "140/140 [==============================] - 50s 354ms/step - loss: 0.2843 - accuracy: 0.9645 - val_loss: 0.4136 - val_accuracy: 0.9062\n",
            "Epoch 62/80\n",
            "140/140 [==============================] - 49s 353ms/step - loss: 0.2884 - accuracy: 0.9659 - val_loss: 0.4066 - val_accuracy: 0.9531\n",
            "Epoch 63/80\n",
            "140/140 [==============================] - 50s 355ms/step - loss: 0.2852 - accuracy: 0.9643 - val_loss: 1.0084 - val_accuracy: 0.8594\n",
            "Epoch 64/80\n",
            "140/140 [==============================] - 50s 354ms/step - loss: 0.2871 - accuracy: 0.9631 - val_loss: 0.4607 - val_accuracy: 0.8906\n",
            "Epoch 65/80\n",
            "140/140 [==============================] - 49s 353ms/step - loss: 0.2805 - accuracy: 0.9678 - val_loss: 0.3916 - val_accuracy: 0.9219\n",
            "Epoch 66/80\n",
            "140/140 [==============================] - 50s 354ms/step - loss: 0.2874 - accuracy: 0.9643 - val_loss: 0.4067 - val_accuracy: 0.9062\n",
            "Epoch 67/80\n",
            "140/140 [==============================] - 49s 353ms/step - loss: 0.2778 - accuracy: 0.9654 - val_loss: 0.6729 - val_accuracy: 0.8438\n",
            "Epoch 68/80\n",
            "140/140 [==============================] - 49s 353ms/step - loss: 0.2891 - accuracy: 0.9620 - val_loss: 0.7466 - val_accuracy: 0.8906\n",
            "Epoch 69/80\n",
            "140/140 [==============================] - 50s 354ms/step - loss: 0.2824 - accuracy: 0.9645 - val_loss: 0.9335 - val_accuracy: 0.7812\n",
            "Epoch 70/80\n",
            "140/140 [==============================] - 49s 353ms/step - loss: 0.2751 - accuracy: 0.9692 - val_loss: 0.5314 - val_accuracy: 0.8438\n",
            "Epoch 71/80\n",
            "140/140 [==============================] - 49s 354ms/step - loss: 0.2797 - accuracy: 0.9681 - val_loss: 0.4925 - val_accuracy: 0.9062\n",
            "Epoch 72/80\n",
            "140/140 [==============================] - 49s 353ms/step - loss: 0.2530 - accuracy: 0.9745 - val_loss: 0.4967 - val_accuracy: 0.9062\n",
            "Epoch 73/80\n",
            "140/140 [==============================] - 50s 354ms/step - loss: 0.2820 - accuracy: 0.9642 - val_loss: 0.7138 - val_accuracy: 0.7969\n",
            "Epoch 74/80\n",
            "140/140 [==============================] - 50s 354ms/step - loss: 0.2632 - accuracy: 0.9719 - val_loss: 0.6976 - val_accuracy: 0.8281\n",
            "Epoch 75/80\n",
            "140/140 [==============================] - 50s 354ms/step - loss: 0.2625 - accuracy: 0.9720 - val_loss: 0.8762 - val_accuracy: 0.8281\n",
            "Epoch 76/80\n",
            "140/140 [==============================] - 49s 353ms/step - loss: 0.2555 - accuracy: 0.9746 - val_loss: 0.4565 - val_accuracy: 0.9219\n",
            "Epoch 77/80\n",
            "140/140 [==============================] - 49s 354ms/step - loss: 0.2652 - accuracy: 0.9704 - val_loss: 0.5273 - val_accuracy: 0.8906\n",
            "Epoch 78/80\n",
            "140/140 [==============================] - 49s 353ms/step - loss: 0.2679 - accuracy: 0.9721 - val_loss: 0.5768 - val_accuracy: 0.9062\n",
            "Epoch 79/80\n",
            "140/140 [==============================] - 50s 354ms/step - loss: 0.2547 - accuracy: 0.9721 - val_loss: 0.5226 - val_accuracy: 0.8906\n",
            "Epoch 80/80\n",
            "140/140 [==============================] - 49s 353ms/step - loss: 0.2504 - accuracy: 0.9743 - val_loss: 0.4784 - val_accuracy: 0.9375\n"
          ],
          "name": "stdout"
        }
      ]
    },
    {
      "cell_type": "code",
      "metadata": {
        "id": "up15J3399DjB",
        "outputId": "96916489-0f66-4172-e897-3d0a7d8f6b03",
        "colab": {
          "base_uri": "https://localhost:8080/",
          "height": 295
        }
      },
      "source": [
        "import matplotlib.pyplot as plt\n",
        "#####Training Accuracy########\"\n",
        "plt.plot(history.history['accuracy'],marker='o',linewidth=3)\n",
        "tra_accu=np.array(history.history['accuracy'])\n",
        "np.save(\"mfvi_tr_accu.npy\",tra_accu)\n",
        "plt.plot(history.history['val_accuracy'],marker='o',linewidth=3)\n",
        "#val_accu=np.array(history.history['val_accuracy'])\n",
        "#np.save(\"mfvi_tr_accu.npy\",tra_accu)\n",
        "plt.title('MFVI model training accuracy')\n",
        "plt.ylabel('Accuracy')\n",
        "plt.xlabel('Epochs-->')\n",
        "plt.legend(['train', 'valid'], loc='upper left')\n",
        "plt.show()"
      ],
      "execution_count": null,
      "outputs": [
        {
          "output_type": "display_data",
          "data": {
            "image/png": "[encoded data removed]",
            "text/plain": [
              "<Figure size 432x288 with 1 Axes>"
            ]
          },
          "metadata": {
            "tags": [],
            "needs_background": "light"
          }
        }
      ]
    },
    {
      "cell_type": "code",
      "metadata": {
        "id": "6tRg6_iNnl6N",
        "outputId": "a9d7a263-5068-42ea-9dfa-fa3b88a349b5",
        "colab": {
          "base_uri": "https://localhost:8080/",
          "height": 295
        }
      },
      "source": [
        "plt.plot(history.history['loss'],marker='o',linewidth=3)\n",
        "plt.plot(history.history['val_loss'],marker='o',linewidth=3)\n",
        "plt.title('model loss')\n",
        "plt.ylabel('loss')\n",
        "plt.xlabel('epoch')\n",
        "plt.legend(['train', 'valid'], loc='upper left')\n",
        "plt.show()"
      ],
      "execution_count": null,
      "outputs": [
        {
          "output_type": "display_data",
          "data": {
            "image/png": "[encoded data removed]",
            "text/plain": [
              "<Figure size 432x288 with 1 Axes>"
            ]
          },
          "metadata": {
            "tags": [],
            "needs_background": "light"
          }
        }
      ]
    },
    {
      "cell_type": "code",
      "metadata": {
        "id": "kvxxvgdIq3HG"
      },
      "source": [
        "np.save(\"tr_accu_mcdp_multi-class-upd-ce.npy\",history.history['accuracy'])\n",
        "np.save(\"val_accu_mcdp_multi-class-upd-ce.npy\",history.history['val_accuracy'])\n",
        "np.save(\"tr_loss_mcdp_multi-class-upd-ce.npy\",history.history['loss'])\n",
        "np.save(\"val_losss_mcdp_multi-class-upd-ce.npy\",history.history['val_loss'])"
      ],
      "execution_count": null,
      "outputs": []
    },
    {
      "cell_type": "code",
      "metadata": {
        "id": "oDJevQM3XtDb"
      },
      "source": [
        "model.save_weights('/content/drive/My Drive/best_model_multi_class_ce.h5')"
      ],
      "execution_count": null,
      "outputs": []
    },
    {
      "cell_type": "code",
      "metadata": {
        "id": "uT9fUYJIZkp2",
        "outputId": "06b4e0fe-8b5d-4f61-c3e0-59915c38d716",
        "colab": {
          "base_uri": "https://localhost:8080/",
          "height": 34
        }
      },
      "source": [
        "path_val='/content/drive/My Drive/Multiclass Dataset New/test'\n",
        "val_datagen = ImageDataGenerator(rescale=1/255.0)\n",
        "val_generator = val_datagen.flow_from_directory(\n",
        "        path_val,\n",
        "        target_size=(224, 224),\n",
        "        batch_size=64,\n",
        "        class_mode='categorical',\n",
        "        shuffle=False)"
      ],
      "execution_count": null,
      "outputs": [
        {
          "output_type": "stream",
          "text": [
            "Found 1920 images belonging to 5 classes.\n"
          ],
          "name": "stdout"
        }
      ]
    },
    {
      "cell_type": "code",
      "metadata": {
        "id": "IiBe3OxqpClm",
        "outputId": "55daeb86-c88f-4cd9-a007-5d3c573813d2",
        "colab": {
          "base_uri": "https://localhost:8080/",
          "height": 34
        }
      },
      "source": [
        "print(len(glob.glob('/content/drive/My Drive/Multiclass Dataset New/test/4/*')))"
      ],
      "execution_count": null,
      "outputs": [
        {
          "output_type": "stream",
          "text": [
            "177\n"
          ],
          "name": "stdout"
        }
      ]
    },
    {
      "cell_type": "code",
      "metadata": {
        "id": "ng0gTeSWc8Lf"
      },
      "source": [
        "num_of_test_samples=1920\n",
        "batch_size=64"
      ],
      "execution_count": null,
      "outputs": []
    },
    {
      "cell_type": "code",
      "metadata": {
        "id": "U1D3dBOfcf_6",
        "outputId": "87bd8100-1b39-4ea5-fdfc-28c41c0f32c6",
        "colab": {
          "base_uri": "https://localhost:8080/",
          "height": 88
        }
      },
      "source": [
        "Y_pred = model.predict(val_generator, num_of_test_samples // batch_size+1)\n",
        "print(Y_pred.shape)\n",
        "y_pred = np.argmax(Y_pred, axis=1)"
      ],
      "execution_count": null,
      "outputs": [
        {
          "output_type": "stream",
          "text": [
            "/usr/local/lib/python3.6/dist-packages/tensorflow/python/data/ops/dataset_ops.py:3350: UserWarning: Even though the tf.config.experimental_run_functions_eagerly option is set, this option does not apply to tf.data functions. tf.data functions are still traced and executed as graphs.\n",
            "  \"Even though the tf.config.experimental_run_functions_eagerly \"\n"
          ],
          "name": "stderr"
        },
        {
          "output_type": "stream",
          "text": [
            "(1920, 5)\n"
          ],
          "name": "stdout"
        }
      ]
    },
    {
      "cell_type": "code",
      "metadata": {
        "id": "z_qLkJVfDwip",
        "outputId": "233196e8-bc2b-449b-d52a-28ca58f2e576",
        "colab": {
          "base_uri": "https://localhost:8080/",
          "height": 119
        }
      },
      "source": [
        "from sklearn.metrics import confusion_matrix\n",
        "print('Confusion Matrix')\n",
        "print(confusion_matrix(val_generator.classes, y_pred))"
      ],
      "execution_count": null,
      "outputs": [
        {
          "output_type": "stream",
          "text": [
            "Confusion Matrix\n",
            "[[795   9   7   0   2]\n",
            " [ 13 298  17   3   2]\n",
            " [  3  16 399  17  16]\n",
            " [  0   0   9 130   7]\n",
            " [  1   2  27  11 136]]\n"
          ],
          "name": "stdout"
        }
      ]
    },
    {
      "cell_type": "code",
      "metadata": {
        "id": "bG0xpPw2FnpL",
        "outputId": "8202de85-1c4e-497b-8b7b-92839102373c",
        "colab": {
          "base_uri": "https://localhost:8080/",
          "height": 238
        }
      },
      "source": [
        "from sklearn.metrics import classification_report\n",
        "print('Classification Report')\n",
        "target_names = ['0', '1','2','3','4']\n",
        "print(classification_report(val_generator.classes, y_pred, target_names=target_names))"
      ],
      "execution_count": null,
      "outputs": [
        {
          "output_type": "stream",
          "text": [
            "Classification Report\n",
            "              precision    recall  f1-score   support\n",
            "\n",
            "           0       0.98      0.98      0.98       813\n",
            "           1       0.92      0.89      0.91       333\n",
            "           2       0.87      0.88      0.88       451\n",
            "           3       0.81      0.89      0.85       146\n",
            "           4       0.83      0.77      0.80       177\n",
            "\n",
            "    accuracy                           0.92      1920\n",
            "   macro avg       0.88      0.88      0.88      1920\n",
            "weighted avg       0.92      0.92      0.92      1920\n",
            "\n"
          ],
          "name": "stdout"
        }
      ]
    },
    {
      "cell_type": "code",
      "metadata": {
        "id": "Dw4P9E8YPN-g"
      },
      "source": [
        ""
      ],
      "execution_count": null,
      "outputs": []
    }
  ]
}