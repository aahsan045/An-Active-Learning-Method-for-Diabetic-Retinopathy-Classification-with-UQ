{
  "nbformat": 4,
  "nbformat_minor": 0,
  "metadata": {
    "colab": {
      "name": "Active_Learning_Multi_PBS_CNN_working_updated_31_05_2021.ipynb",
      "provenance": [],
      "collapsed_sections": []
    },
    "kernelspec": {
      "name": "python3",
      "display_name": "Python 3"
    },
    "accelerator": "GPU"
  },
  "cells": [
    {
      "cell_type": "markdown",
      "metadata": {
        "id": "8U2hKURtMD5H"
      },
      "source": [
        "1. Load Bayesian CNN model as Annotator\n",
        "2. Active Learning will query the samples based on its acquistion function\n",
        "3. Queried samples will be sent to BCNN for labelling.\n",
        "4. Only those labels will be submitted whose labels are confidently returned by the BCNN model. \n",
        "5. Active Learning Model will be retrained."
      ]
    },
    {
      "cell_type": "code",
      "metadata": {
        "id": "sDJpA6ywMwvS"
      },
      "source": [
        "from copy import deepcopy\n",
        "from sklearn.metrics import confusion_matrix\n",
        "import numpy as np\n",
        "import tensorflow.keras as tfk\n",
        "tfkl=tfk.layers\n",
        "from tensorflow.keras.models import Model"
      ],
      "execution_count": null,
      "outputs": []
    },
    {
      "cell_type": "code",
      "metadata": {
        "id": "05zE3yFvuFGY"
      },
      "source": [
        "num_base_filters=32\n",
        "l2_reg=1e-4  #1e-4\n",
        "dropout_rate=0.5  #0.15 for case3  ## for MC-Dropout\n",
        "learning_rate=1e-4\n",
        "bs=64"
      ],
      "execution_count": null,
      "outputs": []
    },
    {
      "cell_type": "code",
      "metadata": {
        "id": "5qjE5z_wuFoP",
        "colab": {
          "base_uri": "https://localhost:8080/"
        },
        "outputId": "123f25cc-11ea-4512-e48a-dd7065162667"
      },
      "source": [
        "from google.colab import drive\n",
        "drive.mount('/content/drive')"
      ],
      "execution_count": null,
      "outputs": [
        {
          "output_type": "stream",
          "text": [
            "Mounted at /content/drive\n"
          ],
          "name": "stdout"
        }
      ]
    },
    {
      "cell_type": "code",
      "metadata": {
        "id": "c9VPALIXuKB3"
      },
      "source": [
        "def get_model():\n",
        "  inputs=tfkl.Input((224,224,3))\n",
        "  x=tfkl.Conv2D(filters=num_base_filters,kernel_size=3,strides=(1, 1),padding=\"same\",kernel_regularizer=tfk.regularizers.l2(l2_reg))(inputs)\n",
        "  x=tfkl.LeakyReLU()(x)\n",
        "  #x=tfkl.Dropout(dropout_rate)(x,training=True)\n",
        "  #x=tfkl.BatchNormalization()(x)\n",
        "  x=tfkl.Conv2D(filters=num_base_filters,kernel_size=3,strides=(1, 1),padding=\"same\",kernel_regularizer=tfk.regularizers.l2(l2_reg))(x)\n",
        "  x=tfkl.LeakyReLU()(x)\n",
        "  x=tfkl.Dropout(dropout_rate)(x,training=True)\n",
        "  x=tfkl.BatchNormalization()(x)\n",
        "  x=tfkl.MaxPooling2D(pool_size=3, strides=(2, 2), padding=\"same\")(x)\n",
        "  #Block2\n",
        "  x=tfkl.Conv2D(filters=num_base_filters*2,kernel_size=3,strides=(1, 1),padding=\"same\",kernel_regularizer=tfk.regularizers.l2(l2_reg))(x)\n",
        "  x=tfkl.LeakyReLU()(x)\n",
        "  #x=tfkl.Dropout(dropout_rate)(x,training=True)\n",
        "  #x=tfkl.BatchNormalization()(x)\n",
        "  x=tfkl.Conv2D(filters=num_base_filters*2,kernel_size=3,strides=(1, 1),padding=\"same\",kernel_regularizer=tfk.regularizers.l2(l2_reg))(x)\n",
        "  x=tfkl.LeakyReLU()(x)\n",
        "  x=tfkl.Dropout(dropout_rate)(x,training=True)\n",
        "  x=tfkl.BatchNormalization()(x)\n",
        "  x=tfkl.MaxPooling2D(pool_size=3, strides=(2, 2), padding=\"same\")(x)\n",
        "  #Block3\n",
        "  x=tfkl.Conv2D(filters=num_base_filters*4,kernel_size=3,strides=(1, 1),padding=\"same\",kernel_regularizer=tfk.regularizers.l2(l2_reg))(x)\n",
        "  x=tfkl.LeakyReLU()(x)\n",
        "  #x=tfkl.Dropout(dropout_rate)(x,training=True)\n",
        "  #x=tfkl.BatchNormalization()(x)\n",
        "  x=tfkl.Conv2D(filters=num_base_filters*4,kernel_size=3,strides=(1, 1),padding=\"same\",kernel_regularizer=tfk.regularizers.l2(l2_reg))(x)\n",
        "  x=tfkl.LeakyReLU()(x)\n",
        "  x=tfkl.Dropout(dropout_rate)(x,training=True)\n",
        "  x=tfkl.BatchNormalization()(x)\n",
        "  x=tfkl.MaxPooling2D(pool_size=3, strides=(2, 2), padding=\"same\")(x)\n",
        "  # Block 4\n",
        "  x=tfkl.Conv2D(filters=num_base_filters*8,kernel_size=3,strides=(1, 1),padding=\"same\",kernel_regularizer=tfk.regularizers.l2(l2_reg))(x)\n",
        "  x=tfkl.LeakyReLU()(x)\n",
        "  #x=tfkl.Dropout(dropout_rate)(x,training=True)\n",
        "  #x=tfkl.BatchNormalization()(x)\n",
        "  x=tfkl.Conv2D(filters=num_base_filters*8,kernel_size=3,strides=(1, 1),padding=\"same\",kernel_regularizer=tfk.regularizers.l2(l2_reg))(x)\n",
        "  x=tfkl.LeakyReLU()(x)\n",
        "  #x=tfkl.Dropout(dropout_rate)(x,training=True)\n",
        "  #x=tfkl.BatchNormalization()(x)\n",
        "  x=tfkl.Conv2D(filters=num_base_filters*8,kernel_size=3,strides=(1, 1),padding=\"same\",kernel_regularizer=tfk.regularizers.l2(l2_reg))(x)\n",
        "  x=tfkl.LeakyReLU()(x)\n",
        "  x=tfkl.Dropout(dropout_rate)(x,training=True)\n",
        "  x=tfkl.BatchNormalization()(x)\n",
        "  x=tfkl.MaxPooling2D(pool_size=5, strides=(3, 3), padding=\"same\")(x)\n",
        "  # Block 5\n",
        "  x=tfkl.Conv2D(filters=num_base_filters*8,kernel_size=3,strides=(1, 1),padding=\"same\",kernel_regularizer=tfk.regularizers.l2(l2_reg))(x)\n",
        "  x=tfkl.LeakyReLU()(x)\n",
        "  #x=tfkl.Dropout(dropout_rate)(x,training=True)\n",
        "  #x=tfkl.BatchNormalization()(x)\n",
        "  x=tfkl.Conv2D(filters=num_base_filters*8,kernel_size=3,strides=(1, 1),padding=\"same\",kernel_regularizer=tfk.regularizers.l2(l2_reg))(x)\n",
        "  x=tfkl.LeakyReLU()(x)\n",
        "  #x=tfkl.Dropout(dropout_rate)(x,training=True)\n",
        "  #x=tfkl.BatchNormalization()(x)\n",
        "  x=tfkl.Conv2D(filters=num_base_filters*8,kernel_size=3,strides=(1, 1),padding=\"same\",kernel_regularizer=tfk.regularizers.l2(l2_reg))(x)\n",
        "  x=tfkl.LeakyReLU()(x)\n",
        "  x=tfkl.Dropout(dropout_rate)(x,training=True)\n",
        "  x=tfkl.BatchNormalization()(x)\n",
        "  x=tfkl.MaxPooling2D(pool_size=5, strides=(3, 3), padding=\"same\")(x)\n",
        "  #x=tfkl.Lambda(lambda y: tfk.backend.concatenate([tfkl.GlobalAvgPool2D()(y),tfkl.GlobalMaxPool2D()(y)], axis=1))(x)\n",
        "  x=tfkl.Flatten()(x)\n",
        "  # Fully-connected\n",
        "  x=tfkl.Dense(2048)(x)\n",
        "  x=tfkl.LeakyReLU()(x)\n",
        "  x=tfkl.Dropout(0.5)(x,training=True)\n",
        "  x=tfkl.BatchNormalization()(x)\n",
        "  x=tfkl.Dense(512)(x)\n",
        "  x=tfkl.LeakyReLU()(x)\n",
        "  x=tfkl.Dropout(0.5)(x,training=True)\n",
        "  x=tfkl.BatchNormalization()(x)\n",
        "  x=tfkl.Dense(128)(x)\n",
        "  x=tfkl.LeakyReLU()(x)\n",
        "  x=tfkl.Dropout(0.2)(x,training=True)\n",
        "  x=tfkl.BatchNormalization()(x)\n",
        "  outputs=tfkl.Dense(5,activation='softmax')(x)\n",
        "  model=Model(inputs,outputs)\n",
        "  return model"
      ],
      "execution_count": null,
      "outputs": []
    },
    {
      "cell_type": "code",
      "metadata": {
        "id": "q0HBaygmuZOr"
      },
      "source": [
        "model=get_model()\n",
        "model.load_weights(\"/content/drive/My Drive/CNN_best_model_multi_class_ce-new.h5\")"
      ],
      "execution_count": null,
      "outputs": []
    },
    {
      "cell_type": "code",
      "source": [
        ""
      ],
      "metadata": {
        "id": "yj31lR0AWH3O"
      },
      "execution_count": null,
      "outputs": []
    },
    {
      "cell_type": "code",
      "source": [
        ""
      ],
      "metadata": {
        "id": "BLVxbCOaWH1U"
      },
      "execution_count": null,
      "outputs": []
    },
    {
      "cell_type": "code",
      "metadata": {
        "id": "uld7EZKrV2a5"
      },
      "source": [
        ""
      ],
      "execution_count": null,
      "outputs": []
    },
    {
      "cell_type": "code",
      "metadata": {
        "id": "7kih3fBwBPjq"
      },
      "source": [
        "for layer in model.layers:\n",
        "  layer.trainable=False\n",
        "for layer in intermediate_model.layers:\n",
        "  layer.trainable=False"
      ],
      "execution_count": null,
      "outputs": []
    },
    {
      "cell_type": "code",
      "metadata": {
        "id": "xYvyL0KqWbzP",
        "colab": {
          "base_uri": "https://localhost:8080/"
        },
        "outputId": "4a9979f5-ecd0-4fb0-d7c2-32d422a8b7d7"
      },
      "source": [
        "print(intermediate_model.summary())"
      ],
      "execution_count": null,
      "outputs": [
        {
          "output_type": "stream",
          "text": [
            "Model: \"model_1\"\n",
            "_________________________________________________________________\n",
            "Layer (type)                 Output Shape              Param #   \n",
            "=================================================================\n",
            "input_1 (InputLayer)         [(None, 224, 224, 3)]     0         \n",
            "_________________________________________________________________\n",
            "conv2d (Conv2D)              (None, 224, 224, 32)      896       \n",
            "_________________________________________________________________\n",
            "leaky_re_lu (LeakyReLU)      (None, 224, 224, 32)      0         \n",
            "_________________________________________________________________\n",
            "conv2d_1 (Conv2D)            (None, 224, 224, 32)      9248      \n",
            "_________________________________________________________________\n",
            "leaky_re_lu_1 (LeakyReLU)    (None, 224, 224, 32)      0         \n",
            "_________________________________________________________________\n",
            "dropout (Dropout)            (None, 224, 224, 32)      0         \n",
            "_________________________________________________________________\n",
            "batch_normalization (BatchNo (None, 224, 224, 32)      128       \n",
            "_________________________________________________________________\n",
            "max_pooling2d (MaxPooling2D) (None, 112, 112, 32)      0         \n",
            "_________________________________________________________________\n",
            "conv2d_2 (Conv2D)            (None, 112, 112, 64)      18496     \n",
            "_________________________________________________________________\n",
            "leaky_re_lu_2 (LeakyReLU)    (None, 112, 112, 64)      0         \n",
            "_________________________________________________________________\n",
            "conv2d_3 (Conv2D)            (None, 112, 112, 64)      36928     \n",
            "_________________________________________________________________\n",
            "leaky_re_lu_3 (LeakyReLU)    (None, 112, 112, 64)      0         \n",
            "_________________________________________________________________\n",
            "dropout_1 (Dropout)          (None, 112, 112, 64)      0         \n",
            "_________________________________________________________________\n",
            "batch_normalization_1 (Batch (None, 112, 112, 64)      256       \n",
            "_________________________________________________________________\n",
            "max_pooling2d_1 (MaxPooling2 (None, 56, 56, 64)        0         \n",
            "_________________________________________________________________\n",
            "conv2d_4 (Conv2D)            (None, 56, 56, 128)       73856     \n",
            "_________________________________________________________________\n",
            "leaky_re_lu_4 (LeakyReLU)    (None, 56, 56, 128)       0         \n",
            "_________________________________________________________________\n",
            "conv2d_5 (Conv2D)            (None, 56, 56, 128)       147584    \n",
            "_________________________________________________________________\n",
            "leaky_re_lu_5 (LeakyReLU)    (None, 56, 56, 128)       0         \n",
            "_________________________________________________________________\n",
            "dropout_2 (Dropout)          (None, 56, 56, 128)       0         \n",
            "_________________________________________________________________\n",
            "batch_normalization_2 (Batch (None, 56, 56, 128)       512       \n",
            "_________________________________________________________________\n",
            "max_pooling2d_2 (MaxPooling2 (None, 28, 28, 128)       0         \n",
            "_________________________________________________________________\n",
            "conv2d_6 (Conv2D)            (None, 28, 28, 256)       295168    \n",
            "_________________________________________________________________\n",
            "leaky_re_lu_6 (LeakyReLU)    (None, 28, 28, 256)       0         \n",
            "_________________________________________________________________\n",
            "conv2d_7 (Conv2D)            (None, 28, 28, 256)       590080    \n",
            "_________________________________________________________________\n",
            "leaky_re_lu_7 (LeakyReLU)    (None, 28, 28, 256)       0         \n",
            "_________________________________________________________________\n",
            "conv2d_8 (Conv2D)            (None, 28, 28, 256)       590080    \n",
            "_________________________________________________________________\n",
            "leaky_re_lu_8 (LeakyReLU)    (None, 28, 28, 256)       0         \n",
            "_________________________________________________________________\n",
            "dropout_3 (Dropout)          (None, 28, 28, 256)       0         \n",
            "_________________________________________________________________\n",
            "batch_normalization_3 (Batch (None, 28, 28, 256)       1024      \n",
            "_________________________________________________________________\n",
            "max_pooling2d_3 (MaxPooling2 (None, 10, 10, 256)       0         \n",
            "_________________________________________________________________\n",
            "conv2d_9 (Conv2D)            (None, 10, 10, 256)       590080    \n",
            "_________________________________________________________________\n",
            "leaky_re_lu_9 (LeakyReLU)    (None, 10, 10, 256)       0         \n",
            "_________________________________________________________________\n",
            "conv2d_10 (Conv2D)           (None, 10, 10, 256)       590080    \n",
            "_________________________________________________________________\n",
            "leaky_re_lu_10 (LeakyReLU)   (None, 10, 10, 256)       0         \n",
            "_________________________________________________________________\n",
            "conv2d_11 (Conv2D)           (None, 10, 10, 256)       590080    \n",
            "_________________________________________________________________\n",
            "leaky_re_lu_11 (LeakyReLU)   (None, 10, 10, 256)       0         \n",
            "=================================================================\n",
            "Total params: 3,534,496\n",
            "Trainable params: 0\n",
            "Non-trainable params: 3,534,496\n",
            "_________________________________________________________________\n",
            "None\n"
          ],
          "name": "stdout"
        }
      ]
    },
    {
      "cell_type": "code",
      "metadata": {
        "id": "eZ4h18wCx88U"
      },
      "source": [
        "X_O=[]\n",
        "y_O=[]\n",
        "X_F=[]\n",
        "y_F=[]\n",
        "import glob\n",
        "import cv2\n",
        "def make_arrays(dir):\n",
        "  for folders in dir:\n",
        "    print(folders)\n",
        "    for folder in folders:\n",
        "      print(folder)\n",
        "      label=int(folder[len(folder)-1])\n",
        "      fldr= folder.split(\"/\")\n",
        "      fldr=fldr[len(fldr)-2]\n",
        "      if (fldr==\"test\" and label==0) or (fldr==\"test\" and label==1) or (fldr==\"test\" and label==2):\n",
        "        print(fldr)\n",
        "        print(label)\n",
        "        continue;\n",
        "      else:\n",
        "        files=glob.glob(folder + \"/*\")\n",
        "        #print(len(files))\n",
        "        for file in files:\n",
        "          res=cv2.cvtColor(cv2.resize(cv2.imread(file),(224,224)), cv2.COLOR_BGR2RGB)/255.0\n",
        "          X_O.append(res)\n",
        "          res=np.expand_dims(res,axis=0)\n",
        "          X_F.append(np.squeeze(intermediate_model(res,training=True),axis=0))\n",
        "          y_O.append(label)\n",
        "          y_F.append(label)\n",
        "  return np.array(X_O),np.array(y_O),np.array(X_F),np.array(y_F)"
      ],
      "execution_count": null,
      "outputs": []
    },
    {
      "cell_type": "code",
      "metadata": {
        "id": "8YPx_ROFAi_s",
        "colab": {
          "base_uri": "https://localhost:8080/"
        },
        "outputId": "dfdc15bc-44fd-4a3c-861c-cc9a9fe04337"
      },
      "source": [
        "filesv=glob.glob(\"/content/drive/My Drive/Multiclass Dataset New/val/*\")\n",
        "filest=glob.glob(\"/content/drive/My Drive/Multiclass Dataset New/test/*\")\n",
        "import tensorflow as tf\n",
        "X_O,y_O,X_F,y_F=make_arrays([filesv,filest])\n",
        "\n",
        "y_O=tf.keras.utils.to_categorical(y_O, num_classes=5, dtype='float32')\n",
        "y_F=tf.keras.utils.to_categorical(y_F, num_classes=5, dtype='float32')\n",
        "print(\"X Orig : \",X_O.shape)\n",
        "print(\"y Orig : \",y_O.shape)\n",
        "print(\"X Feat : \",X_F.shape)\n",
        "print(\"y_Feat : \",y_F.shape)\n",
        "# np.save(\"/content/X_F.npy\",X_F)\n",
        "# np.save(\"/content/y_F.npy\",y_F)\n",
        "# np.save(\"/content/X_O.npy\",X_O)\n",
        "# np.save(\"/content/y_O.npy\",y_O)"
      ],
      "execution_count": null,
      "outputs": [
        {
          "output_type": "stream",
          "text": [
            "['/content/drive/My Drive/Multiclass Dataset New/val/0', '/content/drive/My Drive/Multiclass Dataset New/val/1', '/content/drive/My Drive/Multiclass Dataset New/val/2', '/content/drive/My Drive/Multiclass Dataset New/val/3', '/content/drive/My Drive/Multiclass Dataset New/val/4']\n",
            "/content/drive/My Drive/Multiclass Dataset New/val/0\n",
            "/content/drive/My Drive/Multiclass Dataset New/val/1\n",
            "/content/drive/My Drive/Multiclass Dataset New/val/2\n",
            "/content/drive/My Drive/Multiclass Dataset New/val/3\n",
            "/content/drive/My Drive/Multiclass Dataset New/val/4\n",
            "['/content/drive/My Drive/Multiclass Dataset New/test/0', '/content/drive/My Drive/Multiclass Dataset New/test/1', '/content/drive/My Drive/Multiclass Dataset New/test/2', '/content/drive/My Drive/Multiclass Dataset New/test/3', '/content/drive/My Drive/Multiclass Dataset New/test/4']\n",
            "/content/drive/My Drive/Multiclass Dataset New/test/0\n",
            "test\n",
            "0\n",
            "/content/drive/My Drive/Multiclass Dataset New/test/1\n",
            "test\n",
            "1\n",
            "/content/drive/My Drive/Multiclass Dataset New/test/2\n",
            "test\n",
            "2\n",
            "/content/drive/My Drive/Multiclass Dataset New/test/3\n",
            "/content/drive/My Drive/Multiclass Dataset New/test/4\n",
            "X Orig :  (2238, 224, 224, 3)\n",
            "y Orig :  (2238, 5)\n",
            "X Feat :  (2238, 10, 10, 256)\n",
            "y_Feat :  (2238, 5)\n"
          ],
          "name": "stdout"
        }
      ]
    },
    {
      "cell_type": "code",
      "metadata": {
        "id": "OGwBWeuOtmGP"
      },
      "source": [
        "p=np.random.permutation(range(0,len(X_F)))\n",
        "X_O=X_O[p]\n",
        "y_O=y_O[p]\n",
        "X_F=X_F[p]\n",
        "y_F=y_F[p]"
      ],
      "execution_count": null,
      "outputs": []
    },
    {
      "cell_type": "code",
      "metadata": {
        "id": "DGaVoZ3BhgNf",
        "colab": {
          "base_uri": "https://localhost:8080/"
        },
        "outputId": "cec0d8c2-7394-4ae7-927c-6b7cbade8865"
      },
      "source": [
        "n_inctances=300\n",
        "train_idx = np.random.choice(range(X_F.shape[0]), size=n_inctances, replace=False)\n",
        "X_initial=X_F[train_idx]\n",
        "y_initial=y_F[train_idx]\n",
        "print(X_initial.shape)    \n",
        "print(y_initial.shape)\n"
      ],
      "execution_count": null,
      "outputs": [
        {
          "output_type": "stream",
          "text": [
            "(300, 10, 10, 256)\n",
            "(300, 5)\n"
          ],
          "name": "stdout"
        }
      ]
    },
    {
      "cell_type": "code",
      "metadata": {
        "id": "3dm9yCl9hzVv",
        "colab": {
          "base_uri": "https://localhost:8080/"
        },
        "outputId": "db33aef6-d399-4cfc-9b6d-bad811d7c5b7"
      },
      "source": [
        "X_O = np.delete(X_O, train_idx, axis=0)\n",
        "y_O = np.delete(y_O, train_idx, axis=0)\n",
        "X_F = np.delete(X_F, train_idx, axis=0)\n",
        "y_F = np.delete(y_F, train_idx, axis=0)\n",
        "print(X_O.shape)\n",
        "print(y_O.shape)\n",
        "print(X_F.shape)\n",
        "print(y_F.shape)"
      ],
      "execution_count": null,
      "outputs": [
        {
          "output_type": "stream",
          "text": [
            "(1938, 224, 224, 3)\n",
            "(1938, 5)\n",
            "(1938, 10, 10, 256)\n",
            "(1938, 5)\n"
          ],
          "name": "stdout"
        }
      ]
    },
    {
      "cell_type": "code",
      "metadata": {
        "id": "F-OazJ06ifPD",
        "colab": {
          "base_uri": "https://localhost:8080/"
        },
        "outputId": "c74d6d3a-7fb0-4fe3-9b16-63d561c04e87"
      },
      "source": [
        "X_pool= X_F[0:int(0.70*X_F.shape[0])]\n",
        "X_orig= X_O[0:int(0.70*X_O.shape[0])]\n",
        "y_O = y_O[0:int(0.70*X_O.shape[0])]\n",
        "print(X_pool.shape)\n",
        "print(X_orig.shape)\n",
        "print(y_O.shape)"
      ],
      "execution_count": null,
      "outputs": [
        {
          "output_type": "stream",
          "text": [
            "(1356, 10, 10, 256)\n",
            "(1356, 224, 224, 3)\n",
            "(1356, 5)\n"
          ],
          "name": "stdout"
        }
      ]
    },
    {
      "cell_type": "code",
      "metadata": {
        "id": "NfU-eryCvmdS",
        "colab": {
          "base_uri": "https://localhost:8080/"
        },
        "outputId": "d879b005-dadf-4602-c9b3-9ad2f1243e18"
      },
      "source": [
        "X_test= X_F[int(0.70*X_F.shape[0]):]\n",
        "y_test = y_F[int(0.70*y_F.shape[0]):]\n",
        "print(X_test.shape)    \n",
        "print(y_test.shape)"
      ],
      "execution_count": null,
      "outputs": [
        {
          "output_type": "stream",
          "text": [
            "(582, 10, 10, 256)\n",
            "(582, 5)\n"
          ],
          "name": "stdout"
        }
      ]
    },
    {
      "cell_type": "code",
      "metadata": {
        "id": "X0XtmmQVR1Nu"
      },
      "source": [
        "def focal_loss(gamma=2., alpha=4.):\n",
        "    gamma = float(gamma)\n",
        "    alpha = float(alpha)\n",
        "    def focal_loss_fixed(y_true, y_pred):\n",
        "        epsilon = 1.e-9\n",
        "        y_true = tf.convert_to_tensor(y_true, tf.float32)\n",
        "        y_pred = tf.convert_to_tensor(y_pred, tf.float32)\n",
        "        model_out = tf.add(y_pred, epsilon)\n",
        "        ce = tf.multiply(y_true, -tf.math.log(model_out))\n",
        "        weight = tf.multiply(y_true, tf.pow(tf.subtract(1., model_out), gamma))\n",
        "        fl = tf.multiply(alpha, tf.multiply(weight, ce))\n",
        "        reduced_fl = tf.reduce_max(fl, axis=1)\n",
        "        return tf.reduce_mean(reduced_fl)\n",
        "    return focal_loss_fixed"
      ],
      "execution_count": null,
      "outputs": []
    },
    {
      "cell_type": "code",
      "metadata": {
        "id": "MA41Eu41xaAX"
      },
      "source": [
        "from tensorflow.keras.optimizers import Adam,SGD\n",
        "from tensorflow.keras.models import Model\n",
        "opt=Adam(learning_rate=0.0001,beta_1=0.9,beta_2=0.999)\n",
        "def create_keras_model():\n",
        "  inputs=tfkl.Input((10,10,256))\n",
        "  x=tfkl.Conv2D(256,3,strides=1,padding='valid',kernel_regularizer=tfk.regularizers.l2(1e-3))(inputs)\n",
        "  x=tfkl.LeakyReLU()(x)\n",
        "  x=tfkl.Dropout(0.35)(x,training=True)\n",
        "  x=tfkl.BatchNormalization()(x)\n",
        "  x=tfkl.MaxPool2D(pool_size=(2,2),strides=2)(x)\n",
        "  x=tfkl.Conv2D(256,3,strides=1,padding='same')(x)\n",
        "  x=tfkl.LeakyReLU()(x)\n",
        "  x=tfkl.Dropout(0.35)(x,training=True)\n",
        "  x=tfkl.BatchNormalization()(x)\n",
        "  x=tfkl.Conv2D(256,3,strides=1,padding='same')(x)\n",
        "  x=tfkl.LeakyReLU()(x)\n",
        "  x=tfkl.Dropout(0.35)(x,training=True)\n",
        "  x=tfkl.BatchNormalization()(x)\n",
        "  x=tfkl.Flatten()(x)\n",
        "  x=tfkl.Dense(2048,kernel_regularizer=tfk.regularizers.l2(1e-3))(x)\n",
        "  x=tfkl.LeakyReLU()(x)\n",
        "  x=tfkl.Dropout(0.35)(x,training=True)\n",
        "  x=tfkl.BatchNormalization()(x)\n",
        "  x=tfkl.Dense(512,kernel_regularizer=tfk.regularizers.l2(1e-3))(x)\n",
        "  x=tfkl.LeakyReLU()(x)\n",
        "  x=tfkl.Dropout(0.25)(x,training=True)\n",
        "  x=tfkl.BatchNormalization()(x)\n",
        "  x=tfkl.Dense(128,kernel_regularizer=tfk.regularizers.l2(1e-3))(x)\n",
        "  x=tfkl.LeakyReLU()(x)\n",
        "  x=tfkl.Dropout(0.25)(x,training=True)\n",
        "  x=tfkl.BatchNormalization()(x)\n",
        "  x=tfkl.Dense(5,kernel_regularizer=tfk.regularizers.l2(1e-3),activation='softmax')(x)\n",
        "  al_model=Model(inputs,x)\n",
        "  al_model.compile(loss='categorical_crossentropy',optimizer=opt,metrics=['accuracy'])\n",
        "  return al_model"
      ],
      "execution_count": null,
      "outputs": []
    },
    {
      "cell_type": "code",
      "metadata": {
        "id": "8s2ndAUJyf-5",
        "colab": {
          "base_uri": "https://localhost:8080/"
        },
        "outputId": "9d5acaf3-9330-4b3a-aaf2-abf87a1a8d8d"
      },
      "source": [
        "classifier = create_keras_model()\n",
        "classifier.summary()"
      ],
      "execution_count": null,
      "outputs": [
        {
          "output_type": "stream",
          "text": [
            "Model: \"model_2\"\n",
            "_________________________________________________________________\n",
            "Layer (type)                 Output Shape              Param #   \n",
            "=================================================================\n",
            "input_2 (InputLayer)         [(None, 10, 10, 256)]     0         \n",
            "_________________________________________________________________\n",
            "conv2d_12 (Conv2D)           (None, 8, 8, 256)         590080    \n",
            "_________________________________________________________________\n",
            "leaky_re_lu_15 (LeakyReLU)   (None, 8, 8, 256)         0         \n",
            "_________________________________________________________________\n",
            "dropout_8 (Dropout)          (None, 8, 8, 256)         0         \n",
            "_________________________________________________________________\n",
            "batch_normalization_8 (Batch (None, 8, 8, 256)         1024      \n",
            "_________________________________________________________________\n",
            "max_pooling2d_5 (MaxPooling2 (None, 4, 4, 256)         0         \n",
            "_________________________________________________________________\n",
            "conv2d_13 (Conv2D)           (None, 4, 4, 256)         590080    \n",
            "_________________________________________________________________\n",
            "leaky_re_lu_16 (LeakyReLU)   (None, 4, 4, 256)         0         \n",
            "_________________________________________________________________\n",
            "dropout_9 (Dropout)          (None, 4, 4, 256)         0         \n",
            "_________________________________________________________________\n",
            "batch_normalization_9 (Batch (None, 4, 4, 256)         1024      \n",
            "_________________________________________________________________\n",
            "conv2d_14 (Conv2D)           (None, 4, 4, 256)         590080    \n",
            "_________________________________________________________________\n",
            "leaky_re_lu_17 (LeakyReLU)   (None, 4, 4, 256)         0         \n",
            "_________________________________________________________________\n",
            "dropout_10 (Dropout)         (None, 4, 4, 256)         0         \n",
            "_________________________________________________________________\n",
            "batch_normalization_10 (Batc (None, 4, 4, 256)         1024      \n",
            "_________________________________________________________________\n",
            "flatten_1 (Flatten)          (None, 4096)              0         \n",
            "_________________________________________________________________\n",
            "dense_4 (Dense)              (None, 2048)              8390656   \n",
            "_________________________________________________________________\n",
            "leaky_re_lu_18 (LeakyReLU)   (None, 2048)              0         \n",
            "_________________________________________________________________\n",
            "dropout_11 (Dropout)         (None, 2048)              0         \n",
            "_________________________________________________________________\n",
            "batch_normalization_11 (Batc (None, 2048)              8192      \n",
            "_________________________________________________________________\n",
            "dense_5 (Dense)              (None, 512)               1049088   \n",
            "_________________________________________________________________\n",
            "leaky_re_lu_19 (LeakyReLU)   (None, 512)               0         \n",
            "_________________________________________________________________\n",
            "dropout_12 (Dropout)         (None, 512)               0         \n",
            "_________________________________________________________________\n",
            "batch_normalization_12 (Batc (None, 512)               2048      \n",
            "_________________________________________________________________\n",
            "dense_6 (Dense)              (None, 128)               65664     \n",
            "_________________________________________________________________\n",
            "leaky_re_lu_20 (LeakyReLU)   (None, 128)               0         \n",
            "_________________________________________________________________\n",
            "dropout_13 (Dropout)         (None, 128)               0         \n",
            "_________________________________________________________________\n",
            "batch_normalization_13 (Batc (None, 128)               512       \n",
            "_________________________________________________________________\n",
            "dense_7 (Dense)              (None, 5)                 645       \n",
            "=================================================================\n",
            "Total params: 11,290,117\n",
            "Trainable params: 11,283,205\n",
            "Non-trainable params: 6,912\n",
            "_________________________________________________________________\n"
          ],
          "name": "stdout"
        }
      ]
    },
    {
      "cell_type": "code",
      "metadata": {
        "id": "IORijaImuVzL"
      },
      "source": [
        "def Uncertainty_Quantification(x,model,num_samples):\n",
        "  mc_samples=np.array([model(x,training=False) for _ in range(num_samples)])\n",
        "  mc_samples=np.squeeze(mc_samples,axis=1)\n",
        "  mean_mc_samples=np.mean(mc_samples,axis=0)\n",
        "  y_pred=np.argmax(mean_mc_samples)\n",
        "  ent=-1*np.sum(np.multiply(mean_mc_samples,np.log(mean_mc_samples)),axis=0)\n",
        "  return ent,mean_mc_samples"
      ],
      "execution_count": null,
      "outputs": []
    },
    {
      "cell_type": "code",
      "metadata": {
        "id": "jm3jeVzHWZjx"
      },
      "source": [
        "def query(x,query_strategy=\"uncertainty_sampling\"):\n",
        "  mc_samples=np.array([classifier(x) for _ in range(10)])\n",
        "  mean_mc_samples=np.mean(mc_samples,axis=0)\n",
        "  if query_strategy==\"uncertainty_sampling\":\n",
        "    uncer= 1-mean_mc_samples.max(axis=1)\n",
        "    query_index= np.argmax(uncer)\n",
        "  return query_index"
      ],
      "execution_count": null,
      "outputs": []
    },
    {
      "cell_type": "code",
      "metadata": {
        "id": "39Hyrk6EjJb_"
      },
      "source": [
        "def get_class_weights(y):\n",
        "  from sklearn.utils import class_weight\n",
        "  y_hat=np.argmax(y,axis=1)\n",
        "  class_weights = class_weight.compute_class_weight('balanced',np.unique(y_hat),y_hat)\n",
        "  if class_weights.shape[0]==5:\n",
        "    ws = dict({0: class_weights[0],1: class_weights[1],2: class_weights[2],3: class_weights[3],4: class_weights[4]})\n",
        "  else:\n",
        "     ws = None\n",
        "  return ws"
      ],
      "execution_count": null,
      "outputs": []
    },
    {
      "cell_type": "code",
      "metadata": {
        "id": "qoY6QOzuGFVy"
      },
      "source": [
        "def evaluate(y_pred,y_true):\n",
        "  count=0\n",
        "  for i in range(0,y_pred.shape[0]):\n",
        "    if y_pred[i]==y_true[i]:\n",
        "      count+=1\n",
        "  return count/y_pred.shape[0]"
      ],
      "execution_count": null,
      "outputs": []
    },
    {
      "cell_type": "code",
      "metadata": {
        "colab": {
          "base_uri": "https://localhost:8080/"
        },
        "id": "L68GPx0424br",
        "outputId": "705b1059-2470-47d0-9baf-b19bfaaee107"
      },
      "source": [
        "class_weights=get_class_weights(y_O)\n",
        "print(class_weights)"
      ],
      "execution_count": null,
      "outputs": [
        {
          "output_type": "stream",
          "text": [
            "{0: 0.562655601659751, 1: 1.2672897196261683, 2: 1.0233962264150944, 3: 1.4739130434782608, 4: 1.2853080568720379}\n"
          ],
          "name": "stdout"
        }
      ]
    },
    {
      "cell_type": "code",
      "metadata": {
        "id": "tI8XJFMNaNRS",
        "colab": {
          "base_uri": "https://localhost:8080/"
        },
        "outputId": "bfa271d1-4296-49c0-f5be-0753bb4f919b"
      },
      "source": [
        "classifier.fit(X_pool,y_O,epochs=10,verbose=1,batch_size=16,class_weight=class_weights)\n",
        "class_weight=get_class_weights(y_O)\n",
        "y_pred=np.argmax(classifier(X_test),axis=1)\n",
        "y_true=np.argmax(y_test,axis=1)\n",
        "# print(y_pred.shape)\n",
        "# print(y_true.shape)\n",
        "#classifier.save_weights(\"cnn_multi_ce_weights.h5\")\n",
        "print(\"Initial Test Accuracy\",evaluate(y_pred,y_true))\n",
        "\n",
        "#classifier.load_weights(\"/content/Al_model_CNN_PBS.h5\")"
      ],
      "execution_count": null,
      "outputs": [
        {
          "output_type": "stream",
          "text": [
            "WARNING:tensorflow:From /usr/local/lib/python3.7/dist-packages/tensorflow/python/ops/array_ops.py:5049: calling gather (from tensorflow.python.ops.array_ops) with validate_indices is deprecated and will be removed in a future version.\n",
            "Instructions for updating:\n",
            "The `validate_indices` argument has no effect. Indices are always validated on CPU and never validated on GPU.\n",
            "Epoch 1/10\n",
            "85/85 [==============================] - 6s 23ms/step - loss: 5.3903 - accuracy: 0.5199\n",
            "Epoch 2/10\n",
            "85/85 [==============================] - 2s 21ms/step - loss: 4.9105 - accuracy: 0.6925\n",
            "Epoch 3/10\n",
            "85/85 [==============================] - 2s 21ms/step - loss: 4.6819 - accuracy: 0.7736\n",
            "Epoch 4/10\n",
            "85/85 [==============================] - 2s 21ms/step - loss: 4.5927 - accuracy: 0.7869\n",
            "Epoch 5/10\n",
            "85/85 [==============================] - 2s 21ms/step - loss: 4.4781 - accuracy: 0.8252\n",
            "Epoch 6/10\n",
            "85/85 [==============================] - 2s 21ms/step - loss: 4.4179 - accuracy: 0.8385\n",
            "Epoch 7/10\n",
            "85/85 [==============================] - 2s 21ms/step - loss: 4.3244 - accuracy: 0.8732\n",
            "Epoch 8/10\n",
            "85/85 [==============================] - 2s 21ms/step - loss: 4.2614 - accuracy: 0.8695\n",
            "Epoch 9/10\n",
            "85/85 [==============================] - 2s 21ms/step - loss: 4.1679 - accuracy: 0.9019\n",
            "Epoch 10/10\n",
            "85/85 [==============================] - 2s 21ms/step - loss: 4.1188 - accuracy: 0.9041\n",
            "Initial Test Accuracy 0.8573883161512027\n"
          ],
          "name": "stdout"
        }
      ]
    },
    {
      "cell_type": "code",
      "metadata": {
        "id": "2OITbjpZKOxo"
      },
      "source": [
        "#classifier.compile(loss=focal_loss(gamma=2., alpha=4.),optimizer=opt,metrics=['accuracy'])\n",
        "#classifier.load_weights(\"cnn_multi_ce_weights.h5\")"
      ],
      "execution_count": null,
      "outputs": []
    },
    {
      "cell_type": "code",
      "metadata": {
        "id": "5aSPvAR6zq4Y",
        "colab": {
          "base_uri": "https://localhost:8080/"
        },
        "outputId": "f6349813-da2d-47fb-e7af-33000bcf4f0a"
      },
      "source": [
        "N_QUERIES = 1000\n",
        "scor=[]\n",
        "xtr=[]\n",
        "ytr=[]\n",
        "index=0\n",
        "while (index < N_QUERIES):\n",
        "  index+=1\n",
        "  p=np.random.permutation(range(X_pool.shape[0]))\n",
        "  X_pool=X_pool[p]\n",
        "  X_orig=X_orig[p]\n",
        "  y_O=y_O[p]\n",
        "  pool_f=X_pool[0:20]\n",
        "  pool_o=X_orig[0:20]\n",
        "  pool_y= y_O[0:20]\n",
        "  query_index=query(pool_f,query_strategy=\"uncertainty_sampling\")\n",
        "  x=np.expand_dims(pool_o[query_index],axis=0)\n",
        "  # print(x.shape)\n",
        "  ent,mean_mc_prob=Uncertainty_Quantification(x,model,10)\n",
        "  y_pred=tf.keras.utils.to_categorical(np.argmax(mean_mc_prob), num_classes=5, dtype='float32')\n",
        "  if ent < 1.276:\n",
        "    xtr.append(pool_f[query_index])\n",
        "    ytr.append(y_O[query_index])\n",
        "  if index % 16 == 0:\n",
        "    #print(\"Remaining Pool Size\",X_pool.shape[0])\n",
        "    xtr=np.array(xtr)\n",
        "    ytr=np.array(ytr)\n",
        "    bs=16;\n",
        "    X_initial=np.concatenate((xtr,X_initial),axis=0)\n",
        "    y_initial=np.concatenate((ytr,y_initial),axis=0)\n",
        "    #print(\"New Training Size:\",y_initial.shape[0])\n",
        "    print(get_class_weights(y_initial))\n",
        "    hist=classifier.fit(X_initial,y_initial,epochs=25,verbose=0,batch_size=bs,shuffle=True,class_weight=get_class_weights(y_initial))\n",
        "    y_pred_test=np.argmax(classifier(X_test),axis=1)\n",
        "    y_true_test=np.argmax(y_test,axis=1)\n",
        "    scr=evaluate(y_pred_test,y_true_test)\n",
        "    scor.append(scr)\n",
        "    print(\"Test Accuracy after Iteration:\",index,scr)\n",
        "    xtr=[]\n",
        "    ytr=[]\n",
        "  X_pool = np.delete(X_pool, query_index, axis=0)\n",
        "  X_orig= np.delete(X_orig, query_index, axis=0)\n",
        "  y_O= np.delete(y_O, query_index, axis=0)"
      ],
      "execution_count": null,
      "outputs": [
        {
          "output_type": "stream",
          "text": [
            "{0: 0.6383838383838384, 1: 1.3446808510638297, 2: 0.8540540540540541, 3: 1.6631578947368422, 4: 1.089655172413793}\n",
            "Test Accuracy after Iteration: 16 0.8814432989690721\n",
            "{0: 0.6574257425742575, 1: 1.328, 2: 0.8405063291139241, 3: 1.6195121951219513, 4: 1.0885245901639344}\n",
            "Test Accuracy after Iteration: 32 0.8780068728522337\n",
            "{0: 0.689108910891089, 1: 1.392, 2: 0.8093023255813954, 3: 1.5466666666666666, 4: 1.0545454545454545}\n",
            "Test Accuracy after Iteration: 48 0.8934707903780069\n",
            "{0: 0.7137254901960784, 1: 1.3735849056603773, 2: 0.8088888888888889, 3: 1.456, 4: 1.055072463768116}\n",
            "Test Accuracy after Iteration: 64 0.8917525773195877\n",
            "{0: 0.7450980392156863, 1: 1.3333333333333333, 2: 0.7835051546391752, 3: 1.4615384615384615, 4: 1.0555555555555556}\n",
            "Test Accuracy after Iteration: 80 0.8814432989690721\n",
            "{0: 0.7745098039215687, 1: 1.3166666666666667, 2: 0.7821782178217822, 3: 1.4107142857142858, 4: 1.0394736842105263}\n",
            "Test Accuracy after Iteration: 96 0.8573883161512027\n",
            "{0: 0.7903846153846154, 1: 1.284375, 2: 0.7828571428571428, 3: 1.3475409836065573, 4: 1.0675324675324676}\n",
            "Test Accuracy after Iteration: 112 0.8608247422680413\n",
            "{0: 0.8056603773584906, 1: 1.3138461538461539, 2: 0.7693693693693694, 3: 1.3774193548387097, 4: 1.0289156626506024}\n",
            "Test Accuracy after Iteration: 128 0.8865979381443299\n",
            "{0: 0.8358490566037736, 1: 1.3424242424242425, 2: 0.7771929824561403, 3: 1.3029411764705883, 4: 0.9955056179775281}\n",
            "Test Accuracy after Iteration: 144 0.8745704467353952\n",
            "{0: 0.8422018348623853, 1: 1.3701492537313433, 2: 0.7779661016949152, 3: 1.2929577464788733, 4: 0.9765957446808511}\n",
            "Test Accuracy after Iteration: 160 0.8934707903780069\n",
            "{0: 0.8715596330275229, 1: 1.3013698630136987, 2: 0.7723577235772358, 3: 1.3194444444444444, 4: 0.9693877551020408}\n",
            "Test Accuracy after Iteration: 176 0.8247422680412371\n",
            "{0: 0.8322033898305085, 1: 1.3452054794520547, 2: 0.7732283464566929, 3: 1.3093333333333332, 4: 1.0020408163265306}\n",
            "Test Accuracy after Iteration: 192 0.8934707903780069\n",
            "{0: 0.8521008403361344, 1: 1.352, 2: 0.7567164179104477, 3: 1.3342105263157895, 4: 0.9844660194174757}\n",
            "Test Accuracy after Iteration: 208 0.8865979381443299\n",
            "{0: 0.8789915966386554, 1: 1.341025641025641, 2: 0.7366197183098592, 3: 1.3584415584415583, 4: 0.9775700934579439}\n",
            "Test Accuracy after Iteration: 224 0.8951890034364262\n",
            "{0: 0.8836065573770492, 1: 1.2987951807228915, 2: 0.7486111111111111, 3: 1.3645569620253164, 4: 0.9711711711711711}\n",
            "Test Accuracy after Iteration: 240 0.8780068728522337\n",
            "{0: 0.9098360655737705, 1: 1.2906976744186047, 2: 0.74, 3: 1.3373493975903614, 4: 0.9736842105263158}\n",
            "Test Accuracy after Iteration: 256 0.8780068728522337\n",
            "{0: 0.8992125984251969, 1: 1.2977272727272726, 2: 0.7367741935483871, 3: 1.3435294117647059, 4: 0.9844827586206897}\n",
            "Test Accuracy after Iteration: 272 0.8831615120274914\n",
            "{0: 0.9171875, 1: 1.3044444444444445, 2: 0.7291925465838509, 3: 1.3191011235955057, 4: 0.9865546218487395}\n",
            "Test Accuracy after Iteration: 288 0.8848797250859106\n",
            "{0: 0.9348837209302325, 1: 1.2967741935483872, 2: 0.7178571428571429, 3: 1.34, 4: 0.9804878048780488}\n",
            "Test Accuracy after Iteration: 304 0.8608247422680413\n",
            "{0: 0.9596899224806201, 1: 1.303157894736842, 2: 0.7197674418604652, 3: 1.2895833333333333, 4: 0.9748031496062992}\n",
            "Test Accuracy after Iteration: 320 0.8694158075601375\n",
            "{0: 0.9694656488549618, 1: 1.2959183673469388, 2: 0.7257142857142858, 3: 1.2574257425742574, 4: 0.9769230769230769}\n",
            "Test Accuracy after Iteration: 336 0.8831615120274914\n",
            "{0: 0.9863636363636363, 1: 1.2640776699029126, 2: 0.7314606741573034, 3: 1.2640776699029126, 4: 0.9644444444444444}\n",
            "Test Accuracy after Iteration: 352 0.8951890034364262\n",
            "{0: 1.0030075187969925, 1: 1.2704761904761905, 2: 0.7172043010752688, 3: 1.2704761904761905, 4: 0.9666666666666667}\n",
            "Test Accuracy after Iteration: 368 0.8711340206185567\n",
            "{0: 0.9827338129496402, 1: 1.2766355140186916, 2: 0.7265957446808511, 3: 1.2766355140186916, 4: 0.9619718309859155}\n",
            "Test Accuracy after Iteration: 384 0.9072164948453608\n",
            "{0: 0.9985714285714286, 1: 1.270909090909091, 2: 0.7169230769230769, 3: 1.2825688073394494, 4: 0.9641379310344828}\n",
            "Test Accuracy after Iteration: 400 0.872852233676976\n",
            "{0: 0.9727891156462585, 1: 1.2222222222222223, 2: 0.7333333333333333, 3: 1.311926605504587, 4: 0.9727891156462585}\n",
            "Test Accuracy after Iteration: 416 0.9054982817869416\n",
            "{0: 0.9812080536912752, 1: 1.2389830508474575, 2: 0.7459183673469387, 3: 1.271304347826087, 4: 0.9555555555555556}\n",
            "Test Accuracy after Iteration: 432 0.8900343642611683\n",
            "{0: 0.996, 1: 1.245, 2: 0.7359605911330049, 3: 1.2769230769230768, 4: 0.9515923566878981}\n",
            "Test Accuracy after Iteration: 448 0.9020618556701031\n",
            "{0: 1.0039473684210527, 1: 1.2208, 2: 0.7336538461538461, 3: 1.2932203389830508, 4: 0.95375}\n",
            "Test Accuracy after Iteration: 464 0.8883161512027491\n",
            "{0: 1.0116883116883117, 1: 1.1984615384615385, 2: 0.7179723502304147, 3: 1.3203389830508474, 4: 0.97375}\n",
            "Test Accuracy after Iteration: 480 0.8831615120274914\n",
            "{0: 0.9754601226993865, 1: 1.2045454545454546, 2: 0.7227272727272728, 3: 1.347457627118644, 4: 0.9814814814814815}\n",
            "Test Accuracy after Iteration: 496 0.9020618556701031\n",
            "{0: 0.9642857142857143, 1: 1.208955223880597, 2: 0.72, 3: 1.3388429752066116, 4: 1.0}\n",
            "Test Accuracy after Iteration: 512 0.9003436426116839\n",
            "{0: 0.9833333333333333, 1: 1.1633802816901408, 2: 0.7182608695652174, 3: 1.3652892561983472, 4: 1.0012121212121212}\n",
            "Test Accuracy after Iteration: 528 0.9003436426116839\n",
            "{0: 0.9905882352941177, 1: 1.1534246575342466, 2: 0.7075630252100841, 3: 1.3691056910569106, 4: 1.0206060606060605}\n",
            "Test Accuracy after Iteration: 544 0.8917525773195877\n",
            "{0: 0.9976744186046511, 1: 1.1594594594594594, 2: 0.697560975609756, 3: 1.3511811023622047, 4: 1.04}\n",
            "Test Accuracy after Iteration: 560 0.8986254295532646\n",
            "{0: 0.9931818181818182, 1: 1.15, 2: 0.702008032128514, 3: 1.365625, 4: 1.034319526627219}\n",
            "Test Accuracy after Iteration: 576 0.9140893470790378\n",
            "{0: 1.0056497175141244, 1: 1.1125, 2: 0.7091633466135459, 3: 1.3587786259541985, 4: 1.04093567251462}\n",
            "Test Accuracy after Iteration: 592 0.9020618556701031\n",
            "{0: 0.9901639344262295, 1: 1.1254658385093168, 2: 0.7050583657587549, 3: 1.383206106870229, 4: 1.0413793103448277}\n",
            "Test Accuracy after Iteration: 608 0.9209621993127147\n",
            "{0: 0.9654450261780104, 1: 1.1453416149068323, 2: 0.711969111969112, 3: 1.3761194029850747, 4: 1.0418079096045199}\n",
            "Test Accuracy after Iteration: 624 0.9003436426116839\n",
            "{0: 0.9620512820512821, 1: 1.1580246913580248, 2: 0.716030534351145, 3: 1.3496402877697842, 4: 1.0422222222222222}\n",
            "Test Accuracy after Iteration: 640 0.9003436426116839\n",
            "{0: 0.9784615384615385, 1: 1.1705521472392637, 2: 0.7014705882352941, 3: 1.3342657342657342, 4: 1.0541436464088398}\n",
            "Test Accuracy after Iteration: 656 0.8934707903780069\n",
            "{0: 0.9748743718592965, 1: 1.1757575757575758, 2: 0.7106227106227107, 3: 1.2933333333333332, 4: 1.0601092896174864}\n",
            "Test Accuracy after Iteration: 672 0.8986254295532646\n",
            "{0: 0.9714285714285714, 1: 1.1808383233532933, 2: 0.706810035842294, 3: 1.2973684210526315, 4: 1.065945945945946}\n",
            "Test Accuracy after Iteration: 688 0.9003436426116839\n",
            "{0: 0.9681159420289855, 1: 1.1857988165680473, 2: 0.7131672597864769, 3: 1.2846153846153847, 4: 1.0603174603174603}\n",
            "Test Accuracy after Iteration: 704 0.9175257731958762\n",
            "{0: 0.9835748792270531, 1: 1.1906432748538012, 2: 0.7044982698961938, 3: 1.280503144654088, 4: 1.0604166666666666}\n",
            "Test Accuracy after Iteration: 720 0.9020618556701031\n",
            "{0: 0.9618604651162791, 1: 1.2093567251461987, 2: 0.7082191780821918, 3: 1.2925, 4: 1.0551020408163265}\n",
            "Test Accuracy after Iteration: 736 0.8848797250859106\n",
            "{0: 0.963302752293578, 1: 1.2, 2: 0.7023411371237458, 3: 1.2962962962962963, 4: 1.0714285714285714}\n",
            "Test Accuracy after Iteration: 752 0.9226804123711341\n",
            "{0: 0.9475555555555556, 1: 1.2182857142857142, 2: 0.7130434782608696, 3: 1.2843373493975903, 4: 1.0606965174129352}\n",
            "Test Accuracy after Iteration: 768 0.9037800687285223\n",
            "{0: 0.9533039647577093, 1: 1.2225988700564971, 2: 0.7213333333333334, 3: 1.2729411764705882, 4: 1.0403846153846155}\n",
            "Test Accuracy after Iteration: 784 0.8951890034364262\n",
            "{0: 0.9384615384615385, 1: 1.2337078651685394, 2: 0.7271523178807947, 3: 1.254857142857143, 4: 1.0507177033492823}\n",
            "Test Accuracy after Iteration: 800 0.9020618556701031\n",
            "{0: 0.9322175732217574, 1: 1.2516853932584269, 2: 0.7304918032786886, 3: 1.2659090909090909, 4: 1.0314814814814814}\n",
            "Test Accuracy after Iteration: 816 0.9003436426116839\n",
            "{0: 0.9149797570850202, 1: 1.2216216216216216, 2: 0.738562091503268, 3: 1.2840909090909092, 4: 1.0462962962962963}\n",
            "Test Accuracy after Iteration: 832 0.9054982817869416\n",
            "{0: 0.9241935483870968, 1: 1.1875647668393783, 2: 0.7393548387096774, 3: 1.3022727272727272, 4: 1.0465753424657533}\n",
            "Test Accuracy after Iteration: 848 0.9123711340206185\n",
            "{0: 0.9042801556420234, 1: 1.1979381443298969, 2: 0.7424920127795527, 3: 1.312994350282486, 4: 1.0515837104072399}\n",
            "Test Accuracy after Iteration: 864 0.9192439862542955\n",
            "{0: 0.8823970037453184, 1: 1.2082051282051283, 2: 0.7479365079365079, 3: 1.3310734463276837, 4: 1.0517857142857143}\n",
            "Test Accuracy after Iteration: 880 0.9106529209621993\n",
            "{0: 0.8779411764705882, 1: 1.206060606060606, 2: 0.758095238095238, 3: 1.3266666666666667, 4: 1.0427947598253275}\n",
            "Test Accuracy after Iteration: 896 0.8797250859106529\n",
            "{0: 0.88, 1: 1.2222222222222223, 2: 0.7682539682539683, 3: 1.2604166666666667, 4: 1.0521739130434782}\n",
            "Test Accuracy after Iteration: 912 0.9226804123711341\n",
            "{0: 0.8695035460992908, 1: 1.226, 2: 0.7784126984126984, 3: 1.2574358974358975, 4: 1.047863247863248}\n",
            "Test Accuracy after Iteration: 928 0.9123711340206185\n",
            "{0: 0.8420338983050848, 1: 1.2297029702970297, 2: 0.7885714285714286, 3: 1.2738461538461539, 4: 1.0570212765957447}\n",
            "Test Accuracy after Iteration: 944 0.915807560137457\n",
            "{0: 0.8222222222222222, 1: 1.2455445544554455, 2: 0.7936908517350157, 3: 1.2836734693877552, 4: 1.0616033755274261}\n",
            "Test Accuracy after Iteration: 960 0.9072164948453608\n",
            "{0: 0.8063291139240506, 1: 1.2429268292682927, 2: 0.8012578616352202, 3: 1.286868686868687, 4: 1.0751054852320676}\n",
            "Test Accuracy after Iteration: 976 0.9106529209621993\n",
            "{0: 0.7962962962962963, 1: 1.2403846153846154, 2: 0.8012422360248447, 3: 1.303030303030303, 4: 1.084033613445378}\n",
            "Test Accuracy after Iteration: 992 0.9123711340206185\n"
          ],
          "name": "stdout"
        }
      ]
    },
    {
      "cell_type": "code",
      "metadata": {
        "id": "qchloKaYeTd1"
      },
      "source": [
        "import numpy as np\n",
        "np.save(\"/content/CNN_Multi_PBS_ce_Only_31MAY2021.npy\",scor)"
      ],
      "execution_count": null,
      "outputs": []
    },
    {
      "cell_type": "code",
      "metadata": {
        "id": "DI28CNMIRNXS",
        "colab": {
          "base_uri": "https://localhost:8080/",
          "height": 282
        },
        "outputId": "e5a61577-b82a-4027-e1eb-b5bb72ac15b7"
      },
      "source": [
        "import matplotlib.pyplot as plt\n",
        "%matplotlib inline\n",
        "plt.plot(scor)"
      ],
      "execution_count": null,
      "outputs": [
        {
          "output_type": "execute_result",
          "data": {
            "text/plain": [
              "[<matplotlib.lines.Line2D at 0x7faf75be16d0>]"
            ]
          },
          "metadata": {
            "tags": []
          },
          "execution_count": 27
        },
        {
          "output_type": "display_data",
          "data": {
            "image/png": "[encoded data removed]",
            "text/plain": [
              "<Figure size 432x288 with 1 Axes>"
            ]
          },
          "metadata": {
            "tags": [],
            "needs_background": "light"
          }
        }
      ]
    },
    {
      "cell_type": "code",
      "metadata": {
        "id": "5CUfLi6V5eCm",
        "colab": {
          "base_uri": "https://localhost:8080/"
        },
        "outputId": "5d416846-a083-4e39-d17e-a790f1f363cb"
      },
      "source": [
        "print(scor[len(scor)-1])"
      ],
      "execution_count": null,
      "outputs": [
        {
          "output_type": "stream",
          "text": [
            "0.9123711340206185\n"
          ],
          "name": "stdout"
        }
      ]
    },
    {
      "cell_type": "code",
      "metadata": {
        "id": "Fts0YFpECQJ9"
      },
      "source": [
        "preds=np.argmax(classifier(X_test),axis=1)\n",
        "actuals=np.argmax(y_test,axis=1)"
      ],
      "execution_count": null,
      "outputs": []
    },
    {
      "cell_type": "code",
      "metadata": {
        "id": "J8_JA7rOCoTw"
      },
      "source": [
        "from sklearn.metrics import confusion_matrix\n"
      ],
      "execution_count": null,
      "outputs": []
    },
    {
      "cell_type": "code",
      "metadata": {
        "colab": {
          "base_uri": "https://localhost:8080/"
        },
        "id": "R82PPuVuCs_H",
        "outputId": "7be281ca-cbe2-45de-8bdc-0213be3117d2"
      },
      "source": [
        "O = confusion_matrix(actuals, preds); O"
      ],
      "execution_count": null,
      "outputs": [
        {
          "output_type": "execute_result",
          "data": {
            "text/plain": [
              "array([[232,   0,   1,   0,   0],\n",
              "       [  3,  69,   1,   0,   1],\n",
              "       [  6,   8,  92,   3,   5],\n",
              "       [  0,   2,   9,  60,   3],\n",
              "       [  2,   2,   7,   1,  75]])"
            ]
          },
          "metadata": {
            "tags": []
          },
          "execution_count": 31
        }
      ]
    },
    {
      "cell_type": "code",
      "metadata": {
        "colab": {
          "base_uri": "https://localhost:8080/"
        },
        "id": "n09ZlrowCxRU",
        "outputId": "24c75c87-0522-4516-9e2e-f02024c4d43b"
      },
      "source": [
        "w = np.zeros((5,5)); w"
      ],
      "execution_count": null,
      "outputs": [
        {
          "output_type": "execute_result",
          "data": {
            "text/plain": [
              "array([[0., 0., 0., 0., 0.],\n",
              "       [0., 0., 0., 0., 0.],\n",
              "       [0., 0., 0., 0., 0.],\n",
              "       [0., 0., 0., 0., 0.],\n",
              "       [0., 0., 0., 0., 0.]])"
            ]
          },
          "metadata": {
            "tags": []
          },
          "execution_count": 32
        }
      ]
    },
    {
      "cell_type": "code",
      "metadata": {
        "id": "CpfQCF6qDPxs"
      },
      "source": [
        "for i in range(len(w)):\n",
        "    for j in range(len(w)):\n",
        "        w[i][j] = float(((i-j)**2)/16)"
      ],
      "execution_count": null,
      "outputs": []
    },
    {
      "cell_type": "code",
      "metadata": {
        "id": "dJHyWfSdDUHR"
      },
      "source": [
        "N=5\n",
        "act_hist=np.zeros([N])\n",
        "for item in actuals: \n",
        "    act_hist[item]+=1\n",
        "    \n",
        "pred_hist=np.zeros([N])\n",
        "for item in preds: \n",
        "    pred_hist[item]+=1"
      ],
      "execution_count": null,
      "outputs": []
    },
    {
      "cell_type": "code",
      "metadata": {
        "colab": {
          "base_uri": "https://localhost:8080/"
        },
        "id": "lPD-lLBwDaYf",
        "outputId": "ad1ed648-77a8-4426-e76c-a6f9bcd57bff"
      },
      "source": [
        "print(f'Actuals value counts:{act_hist}, Prediction value counts:{pred_hist}')"
      ],
      "execution_count": null,
      "outputs": [
        {
          "output_type": "stream",
          "text": [
            "Actuals value counts:[233.  74. 114.  74.  87.], Prediction value counts:[243.  81. 110.  64.  84.]\n"
          ],
          "name": "stdout"
        }
      ]
    },
    {
      "cell_type": "code",
      "metadata": {
        "colab": {
          "base_uri": "https://localhost:8080/"
        },
        "id": "aB55j62_DeYl",
        "outputId": "79afa81b-8f92-4e2e-ed5b-fe8f875536c8"
      },
      "source": [
        "E = np.outer(act_hist, pred_hist); E"
      ],
      "execution_count": null,
      "outputs": [
        {
          "output_type": "execute_result",
          "data": {
            "text/plain": [
              "array([[56619., 18873., 25630., 14912., 19572.],\n",
              "       [17982.,  5994.,  8140.,  4736.,  6216.],\n",
              "       [27702.,  9234., 12540.,  7296.,  9576.],\n",
              "       [17982.,  5994.,  8140.,  4736.,  6216.],\n",
              "       [21141.,  7047.,  9570.,  5568.,  7308.]])"
            ]
          },
          "metadata": {
            "tags": []
          },
          "execution_count": 36
        }
      ]
    },
    {
      "cell_type": "code",
      "metadata": {
        "colab": {
          "base_uri": "https://localhost:8080/"
        },
        "id": "oylHKbltDtBE",
        "outputId": "12e7fc5b-98d3-4b3a-9391-66937489372f"
      },
      "source": [
        "E = E/E.sum(); E.sum()"
      ],
      "execution_count": null,
      "outputs": [
        {
          "output_type": "execute_result",
          "data": {
            "text/plain": [
              "1.0"
            ]
          },
          "metadata": {
            "tags": []
          },
          "execution_count": 37
        }
      ]
    },
    {
      "cell_type": "code",
      "metadata": {
        "colab": {
          "base_uri": "https://localhost:8080/"
        },
        "id": "ALdwySPdDzRn",
        "outputId": "838cab11-9401-46ae-fb33-0a8cd3f9dad8"
      },
      "source": [
        "O = O/O.sum(); O.sum()"
      ],
      "execution_count": null,
      "outputs": [
        {
          "output_type": "execute_result",
          "data": {
            "text/plain": [
              "1.0"
            ]
          },
          "metadata": {
            "tags": []
          },
          "execution_count": 38
        }
      ]
    },
    {
      "cell_type": "code",
      "metadata": {
        "colab": {
          "base_uri": "https://localhost:8080/"
        },
        "id": "eqpiGaE9D4K1",
        "outputId": "29768fcb-0042-4aae-dfb5-3370bbe3a656"
      },
      "source": [
        "num=0\n",
        "den=0\n",
        "for i in range(len(w)):\n",
        "    for j in range(len(w)):\n",
        "        num+=w[i][j]*O[i][j]\n",
        "        den+=w[i][j]*E[i][j]\n",
        " \n",
        "weighted_kappa = (1 - (num/den)); weighted_kappa"
      ],
      "execution_count": null,
      "outputs": [
        {
          "output_type": "execute_result",
          "data": {
            "text/plain": [
              "0.9328054381129727"
            ]
          },
          "metadata": {
            "tags": []
          },
          "execution_count": 39
        }
      ]
    },
    {
      "cell_type": "code",
      "metadata": {
        "id": "xlPr3jZvD_uq"
      },
      "source": [
        ""
      ],
      "execution_count": null,
      "outputs": []
    }
  ]
}